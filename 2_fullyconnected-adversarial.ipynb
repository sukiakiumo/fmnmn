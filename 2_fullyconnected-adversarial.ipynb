{
 "cells": [
  {
   "cell_type": "code",
   "execution_count": null,
   "metadata": {
    "colab_type": "text",
    "collapsed": true,
    "id": "kR-4eNdK6lYS"
   },
   "outputs": [],
   "source": []
  },
  {
   "cell_type": "code",
   "execution_count": 1,
   "metadata": {
    "cellView": "both",
    "colab": {
     "autoexec": {
      "startup": false,
      "wait_interval": 0
     }
    },
    "colab_type": "code",
    "collapsed": false,
    "id": "JLpLa8Jt7Vu4"
   },
   "outputs": [],
   "source": [
    "# These are all the modules we'll be using later. Make sure you can import them\n",
    "# before proceeding further.\n",
    "from __future__ import print_function\n",
    "import numpy as np\n",
    "import tensorflow as tf\n",
    "from six.moves import cPickle as pickle\n",
    "from six.moves import range"
   ]
  },
  {
   "cell_type": "markdown",
   "metadata": {
    "colab_type": "text",
    "id": "1HrCK6e17WzV"
   },
   "source": [
    "First reload the data we generated in `1_notmnist.ipynb`."
   ]
  },
  {
   "cell_type": "code",
   "execution_count": 2,
   "metadata": {
    "cellView": "both",
    "colab": {
     "autoexec": {
      "startup": false,
      "wait_interval": 0
     },
     "output_extras": [
      {
       "item_id": 1
      }
     ]
    },
    "colab_type": "code",
    "collapsed": false,
    "executionInfo": {
     "elapsed": 19456,
     "status": "ok",
     "timestamp": 1449847956073,
     "user": {
      "color": "",
      "displayName": "",
      "isAnonymous": false,
      "isMe": true,
      "permissionId": "",
      "photoUrl": "",
      "sessionId": "0",
      "userId": ""
     },
     "user_tz": 480
    },
    "id": "y3-cj1bpmuxc",
    "outputId": "0ddb1607-1fc4-4ddb-de28-6c7ab7fb0c33"
   },
   "outputs": [
    {
     "name": "stdout",
     "output_type": "stream",
     "text": [
      "Training set (200000, 28, 28) (200000,)\n",
      "Validation set (10000, 28, 28) (10000,)\n",
      "Test set (10000, 28, 28) (10000,)\n"
     ]
    }
   ],
   "source": [
    "pickle_file = 'notMNIST.pickle'\n",
    "\n",
    "with open(pickle_file, 'rb') as f:\n",
    "  save = pickle.load(f)\n",
    "  train_dataset = save['train_dataset']\n",
    "  train_labels = save['train_labels']\n",
    "  valid_dataset = save['valid_dataset']\n",
    "  valid_labels = save['valid_labels']\n",
    "  test_dataset = save['test_dataset']\n",
    "  test_labels = save['test_labels']\n",
    "  del save  # hint to help gc free up memory\n",
    "  print('Training set', train_dataset.shape, train_labels.shape)\n",
    "  print('Validation set', valid_dataset.shape, valid_labels.shape)\n",
    "  print('Test set', test_dataset.shape, test_labels.shape)"
   ]
  },
  {
   "cell_type": "markdown",
   "metadata": {
    "colab_type": "text",
    "id": "L7aHrm6nGDMB"
   },
   "source": [
    "Reformat into a shape that's more adapted to the models we're going to train:\n",
    "- data as a flat matrix,\n",
    "- labels as float 1-hot encodings."
   ]
  },
  {
   "cell_type": "code",
   "execution_count": 3,
   "metadata": {
    "cellView": "both",
    "colab": {
     "autoexec": {
      "startup": false,
      "wait_interval": 0
     },
     "output_extras": [
      {
       "item_id": 1
      }
     ]
    },
    "colab_type": "code",
    "collapsed": false,
    "executionInfo": {
     "elapsed": 19723,
     "status": "ok",
     "timestamp": 1449847956364,
     "user": {
      "color": "",
      "displayName": "",
      "isAnonymous": false,
      "isMe": true,
      "permissionId": "",
      "photoUrl": "",
      "sessionId": "0",
      "userId": ""
     },
     "user_tz": 480
    },
    "id": "IRSyYiIIGIzS",
    "outputId": "2ba0fc75-1487-4ace-a562-cf81cae82793"
   },
   "outputs": [
    {
     "name": "stdout",
     "output_type": "stream",
     "text": [
      "Training set (200000, 784) (200000, 10)\n",
      "Validation set (10000, 784) (10000, 10)\n",
      "Test set (10000, 784) (10000, 10)\n"
     ]
    }
   ],
   "source": [
    "image_size = 28\n",
    "num_labels = 10\n",
    "\n",
    "def reformat(dataset, labels):\n",
    "  dataset = dataset.reshape((-1, image_size * image_size)).astype(np.float32)\n",
    "  # Map 0 to [1.0, 0.0, 0.0 ...], 1 to [0.0, 1.0, 0.0 ...]\n",
    "  labels = (np.arange(num_labels) == labels[:,None]).astype(np.float32)\n",
    "  return dataset, labels\n",
    "train_dataset, train_labels = reformat(train_dataset, train_labels)\n",
    "valid_dataset, valid_labels = reformat(valid_dataset, valid_labels)\n",
    "test_dataset, test_labels = reformat(test_dataset, test_labels)\n",
    "print('Training set', train_dataset.shape, train_labels.shape)\n",
    "print('Validation set', valid_dataset.shape, valid_labels.shape)\n",
    "print('Test set', test_dataset.shape, test_labels.shape)\n",
    "\n",
    "def variable_summaries(var, name,dorelu):\n",
    "  with tf.name_scope(\"summaries\"):\n",
    "    mean = tf.reduce_mean(var)\n",
    "    tf.scalar_summary('mean/' + name, mean)\n",
    "    if dorelu==1:\n",
    "        var = tf.nn.relu6(var)\n",
    "        \n",
    "    with tf.name_scope('stddev'):\n",
    "      stddev = tf.sqrt(tf.reduce_sum(tf.square(var - mean)))\n",
    "    tf.scalar_summary('sttdev/' + name, stddev)\n",
    "    tf.scalar_summary('max/' + name, tf.reduce_max(var))\n",
    "    tf.scalar_summary('min/' + name, tf.reduce_min(var))\n",
    "    tf.scalar_summary('sparsity/'+ name, tf.nn.zero_fraction(var))\n",
    "    tf.histogram_summary(name, var)\n",
    " "
   ]
  },
  {
   "cell_type": "code",
   "execution_count": 4,
   "metadata": {
    "collapsed": true
   },
   "outputs": [],
   "source": [
    "\n",
    "def accuracy(predictions, labels):\n",
    "  return (100.0 * np.sum(np.argmax(predictions, 1) == np.argmax(labels, 1))\n",
    "          / predictions.shape[0])\n",
    "\n",
    "\n"
   ]
  },
  {
   "cell_type": "markdown",
   "metadata": {},
   "source": [
    "In this cell we are going to perturb a set of the training data set to reflect mislabeled data. \n"
   ]
  },
  {
   "cell_type": "code",
   "execution_count": 5,
   "metadata": {
    "collapsed": false
   },
   "outputs": [],
   "source": [
    "fracBad = 0.;\n",
    "nBad = np.int(fracBad*train_labels.shape[0])\n",
    "rangeNess = np.arange(train_labels.shape[0])\n",
    "np.random.shuffle(rangeNess)\n",
    "randomBreak = rangeNess[:nBad]\n",
    "\n",
    "for i, rb in enumerate(randomBreak):\n",
    "    train_labels[rb][:] = train_labels[rb][np.random.permutation(10)];"
   ]
  },
  {
   "cell_type": "code",
   "execution_count": null,
   "metadata": {
    "collapsed": false
   },
   "outputs": [],
   "source": []
  },
  {
   "cell_type": "markdown",
   "metadata": {
    "colab_type": "text",
    "id": "nCLVqyQ5vPPH"
   },
   "source": [
    "We're first going to train a multinomial logistic regression using simple gradient descent.\n",
    "\n",
    "TensorFlow works like this:\n",
    "* First you describe the computation that you want to see performed: what the inputs, the variables, and the operations look like. These get created as nodes over a computation graph. This description is all contained within the block below:\n",
    "\n",
    "      with graph.as_default():\n",
    "          ...\n",
    "\n",
    "* Then you can run the operations on this graph as many times as you want by calling `session.run()`, providing it outputs to fetch from the graph that get returned. This runtime operation is all contained in the block below:\n",
    "\n",
    "      with tf.Session(graph=graph) as session:\n",
    "          ...\n",
    "\n",
    "Let's load all the data into TensorFlow and build the computation graph corresponding to our training:"
   ]
  },
  {
   "cell_type": "code",
   "execution_count": null,
   "metadata": {
    "cellView": "both",
    "colab": {
     "autoexec": {
      "startup": false,
      "wait_interval": 0
     }
    },
    "colab_type": "code",
    "collapsed": false,
    "id": "Nfv39qvtvOl_"
   },
   "outputs": [],
   "source": [
    "\n",
    "\n",
    "# With gradient descent training, even this much data is prohibitive.\n",
    "# Subset the training data for faster turnaround.\n",
    "train_subset = 10000\n",
    "\n",
    "graph = tf.Graph()\n",
    "with graph.as_default():\n",
    "\n",
    "  # Input data.\n",
    "  # Load the training, validation and test data into constants that are\n",
    "  # attached to the graph.\n",
    "  tf_train_dataset = tf.constant(train_dataset[:train_subset, :])\n",
    "  tf_train_labels = tf.constant(train_labels[:train_subset])\n",
    "  tf_valid_dataset = tf.constant(valid_dataset)\n",
    "  tf_test_dataset = tf.constant(test_dataset)\n",
    "  \n",
    "  # Variables.\n",
    "  # These are the parameters that we are going to be training. The weight\n",
    "  # matrix will be initialized using random valued following a (truncated)\n",
    "  # normal distribution. The biases get initialized to zero.\n",
    "  #with tf.name_scope('hidden') as scope:\n",
    "  layer_name = 'layer1'\n",
    "#   with tf.name_scope(\"weights\"):\n",
    "  weights = tf.Variable(\n",
    "    tf.truncated_normal([image_size * image_size, num_labels]),name='weights')\n",
    "#   variable_summaries(weights, layer_name + '/weights',0)\n",
    "#   with tf.name_scope(\"biases\"):\n",
    "  biases = tf.Variable(tf.zeros([num_labels]),name='biases')\n",
    "#   variable_summaries(weights, layer_name + '/biases',0)\n",
    "#   with tf.name_scope(\"priors\"):\n",
    "  priors = tf.Variable(tf.ones([train_subset])*0.9,name='priors')\n",
    "#   variable_summaries(priors, layer_name + '/priors',1) \n",
    "\n",
    "  # Training computation.\n",
    "  # Find the classification estimation 'z' value\n",
    "  logits = tf.matmul(tf_train_dataset, weights) + biases\n",
    "  # Calculate the cross-entropy loss. \n",
    "  loss = tf.reduce_mean(tf.mul(\n",
    "            tf.nn.relu6(priors*6),tf.nn.softmax_cross_entropy_with_logits(logits, tf_train_labels)\n",
    "                                )\n",
    "                       )/tf.reduce_mean(tf.nn.relu6(priors*6))\n",
    "  tf.scalar_summary('loss/' + layer_name, loss)\n",
    "\n",
    "  # Optimizer.\n",
    "  # We are going to find the minimum of this loss using gradient descent.\n",
    "  optimizer = tf.train.GradientDescentOptimizer(0.5).minimize(loss)\n",
    "#   optimizer = tf.train.AdagradOptimizer(learning_rate=0.5, initial_accumulator_value=0.1, use_locking=False, name='Adagrad')\n",
    "#   optimizer = tf.train.AdamOptimizer(learning_rate=0.5) # Adam Optimizer\n",
    "#   train_op = optimizer.apply_gradients(zip(grads, tvars))\n",
    "  # Predictions for the training, validation, and test data.\n",
    "  # These are not part of training, but merely here so that we can report\n",
    "  # accuracy figures as we train.\n",
    "  train_prediction = tf.nn.softmax(logits)\n",
    "  valid_prediction = tf.nn.softmax(\n",
    "    tf.matmul(tf_valid_dataset, weights) + biases)\n",
    "  test_prediction = tf.nn.softmax(tf.matmul(tf_test_dataset, weights) + biases)\n",
    " \n",
    "\n"
   ]
  },
  {
   "cell_type": "markdown",
   "metadata": {
    "colab_type": "text",
    "id": "KQcL4uqISHjP"
   },
   "source": [
    "Let's run this computation and iterate:"
   ]
  },
  {
   "cell_type": "code",
   "execution_count": null,
   "metadata": {
    "collapsed": true
   },
   "outputs": [],
   "source": []
  },
  {
   "cell_type": "code",
   "execution_count": null,
   "metadata": {
    "cellView": "both",
    "colab": {
     "autoexec": {
      "startup": false,
      "wait_interval": 0
     },
     "output_extras": [
      {
       "item_id": 9
      }
     ]
    },
    "colab_type": "code",
    "collapsed": false,
    "executionInfo": {
     "elapsed": 57454,
     "status": "ok",
     "timestamp": 1449847994134,
     "user": {
      "color": "",
      "displayName": "",
      "isAnonymous": false,
      "isMe": true,
      "permissionId": "",
      "photoUrl": "",
      "sessionId": "0",
      "userId": ""
     },
     "user_tz": 480
    },
    "id": "z2cjdenH869W",
    "outputId": "4c037ba1-b526-4d8e-e632-91e2a0333267"
   },
   "outputs": [],
   "source": [
    "num_steps = 50000\n",
    "\n",
    "with tf.Session(graph=graph) as session:\n",
    "  # This is a one-time operation which ensures the parameters get initialized as\n",
    "  # we described in the graph: random weights for the matrix, zeros for the\n",
    "  # biases. \n",
    "  tf.initialize_all_variables().run()\n",
    "\n",
    "    \n",
    "  summary_op = tf.merge_all_summaries()\n",
    "  train_dir = 'tmp'\n",
    "  summary_writer = tf.train.SummaryWriter(train_dir, session.graph)  \n",
    "  print('Initialized')\n",
    "  for step in range(num_steps):\n",
    "    # Run the computations. We tell .run() that we want to run the optimizer,\n",
    "    # and get the loss value and the training predictions returned as numpy\n",
    "    # arrays.\n",
    "    _, l, predictions = session.run([optimizer, loss, train_prediction])\n",
    "    if (step % 100 == 0):\n",
    "      print('Loss at step %d: %f' % (step, l))\n",
    "      acc=accuracy(predictions, train_labels[:train_subset, :])\n",
    "      print('Training accuracy: %.1f%%' % acc)\n",
    "      # Calling .eval() on valid_prediction is basically like calling run(), but\n",
    "      # just to get that one numpy array. Note that it recomputes all its graph\n",
    "      # dependencies.\n",
    "      print('Validation accuracy: %.1f%%' % accuracy(\n",
    "        valid_prediction.eval(), valid_labels))\n",
    "      tf.scalar_summary('train_acc/' + layer_name, acc)\n",
    "      summary_str = session.run(summary_op)\n",
    "      summary_writer.add_summary(summary_str, step)  \n",
    "\n",
    "  print('Test accuracy: %.1f%%' % accuracy(test_prediction.eval(), test_labels))\n",
    "  "
   ]
  },
  {
   "cell_type": "markdown",
   "metadata": {},
   "source": [
    "ToDO: \n",
    "Fix Matplotlib\n",
    "Generate script to calculate multiple versions of this so that \n",
    "   - ensure has a cut-off for when validation no longer improving\n",
    "   - do 'control experiment' to validate how classification would do without mislabeled data (same randomly removed datas\n",
    "   - do control experiment to validate how performance would be if all mislabeled data were just removed.\n",
    "   - ensure that variables are recorded.\n",
    "\n",
    "Implement with batch-learning techniques\n",
    "Determine architecture for better NN to get higher classificaton accuracy. Plug into scripts above\n",
    "Determine architecture for deep NN to get higher classification accuracy. \n",
    "\n",
    "Implement prior weighting matrix, not just mislabeled or properly labeled priors. "
   ]
  },
  {
   "cell_type": "code",
   "execution_count": null,
   "metadata": {
    "collapsed": true
   },
   "outputs": [],
   "source": [
    "#GOOD VERSION\n",
    "num_steps = 5000\n",
    "\n",
    "def accuracy(predictions, labels):\n",
    "  return (100.0 * np.sum(np.argmax(predictions, 1) == np.argmax(labels, 1))\n",
    "          / predictions.shape[0])\n",
    "\n",
    "\n",
    "\n",
    "with tf.Session(graph=graph) as session:\n",
    "    # This is a one-time operation which ensures the parameters get initialized as\n",
    "    # we described in the graph: random weights for the matrix, zeros for the\n",
    "    # biases. \n",
    "    tf.initialize_all_variables().run()\n",
    "\n",
    "    \n",
    "  summary_op = tf.merge_all_summaries()\n",
    "  train_dir = 'tmp'\n",
    "  summary_writer = tf.train.SummaryWriter(train_dir, session.graph)  \n",
    "  print('Initialized')\n",
    "  for step in range(num_steps):\n",
    "    # Run the computations. We tell .run() that we want to run the optimizer,\n",
    "    # and get the loss value and the training predictions returned as numpy\n",
    "    # arrays.\n",
    "    _, l, predictions = session.run([optimizer, loss, train_prediction])\n",
    "    if (step % 100 == 0):\n",
    "      summary_str = session.run(summary_op)\n",
    "      summary_writer.add_summary(summary_str, step)  \n",
    "      print('Loss at step %d: %f' % (step, l))\n",
    "      print('Training accuracy: %.1f%%' % accuracy(\n",
    "        predictions, train_labels[:train_subset, :]))\n",
    "      # Calling .eval() on valid_prediction is basically like calling run(), but\n",
    "      # just to get that one numpy array. Note that it recomputes all its graph\n",
    "      # dependencies.\n",
    "      print('Validation accuracy: %.1f%%' % accuracy(\n",
    "        valid_prediction.eval(), valid_labels))\n",
    "  print('Test accuracy: %.1f%%' % accuracy(test_prediction.eval(), test_labels))\n",
    "  "
   ]
  },
  {
   "cell_type": "code",
   "execution_count": null,
   "metadata": {
    "collapsed": true
   },
   "outputs": [],
   "source": []
  },
  {
   "cell_type": "markdown",
   "metadata": {
    "collapsed": false
   },
   "source": [
    "All have 5k steps. No regularization\n",
    "\n",
    "\n",
    "Using relu6 (6*priors) 'cause was thinking it was mnist\n",
    "Mislabeled 10%\n",
    "Loss at step 4900: 0.056321\n",
    "Training accuracy: 81.2%\n",
    "Validation accuracy: 79.4%\n",
    "Test accuracy: 86.2%\n",
    "(It ended up zeroing out about 15% of the inputs) \n",
    "\n",
    "Mislabeled 10% \n",
    "Training accuracy: 81.4%\n",
    "Validation accuracy: 79.2%\n",
    "Test accuracy: 86.2%\n",
    "\n",
    "Mislabeled 20% \n",
    "Loss at step 4900: 0.099275\n",
    "Training accuracy: 74.3%\n",
    "Validation accuracy: 77.8%\n",
    "Test accuracy: 84.7%\n",
    "(was still increasing accuracy at each step)\n",
    "\n",
    "Mislabeled 30% \n",
    "Loss at step 4900: 0.200973\n",
    "Training accuracy: 66.7%\n",
    "Validation accuracy: 76.2%\n",
    "Test accuracy: 82.7%\n",
    "(was still increasing accuracy at each step)\n",
    "\n",
    "Mislabeled 60% \n",
    "Loss at step 4900: 1.156747\n",
    "Training accuracy: 44.5%\n",
    "Validation accuracy: 60.9%\n",
    "Test accuracy: 68.3%\n",
    "needed to stop early...\n",
    "Loss at step 10000: 0.346632\n",
    "Validation accuracy: 64.3%\n",
    "\n",
    "Loss at step 19900: 0.137459\n",
    "Training accuracy: 50.6%\n",
    "Validation accuracy: 62.8%\n",
    "Test accuracy: 70.0%\n",
    "\n",
    "Mislabeled 0%\n",
    "Loss at step 4900: 0.034090\n",
    "Training accuracy: 88.6%\n",
    "Validation accuracy: 80.2%\n",
    "Test accuracy: 87.2%\n",
    "(It ended up zeroing out about 8% of the inputs) \n",
    "\n",
    "Mislabled 0%\n",
    "Loss at step 4900: 0.033416\n",
    "Training accuracy: 88.7%\n",
    "Validation accuracy: 80.6%\n",
    "Test accuracy: 87.2%\n",
    "\n",
    "Mislabeled 0% Using a sigmoid \n",
    "Loss at step 4900: 0.431781\n",
    "Training accuracy: 87.5%\n",
    "Validation accuracy: 77.9%\n",
    "Test accuracy: 84.7%\n",
    "This didn't have many events zeroing out... not changing quickly enough (it was 0.5% zeroed out at this value)\n",
    "\n",
    "Mislabeles 0% using sigmoid and 10*prior\n",
    "Loss at step 9900: 0.364327\n",
    "Training accuracy: 90.8%\n",
    "Validation accuracy: 77.5%\n",
    "Test accuracy: 84.4%\n",
    "\n",
    "Mislabeles 0% using sigmoid and 10*prior\n",
    "Loss at step 19900: 0.292983\n",
    "Training accuracy: 93.1%\n",
    "Validation accuracy: 76.9%\n",
    "Test accuracy: 83.7%\n",
    "AT 10* prior it appeared to no longer chang ethe max val of the priors. There were some really odd steps in the training curves. \n",
    "\n"
   ]
  },
  {
   "cell_type": "markdown",
   "metadata": {},
   "source": [
    "Test using complete-prior matrix."
   ]
  },
  {
   "cell_type": "code",
   "execution_count": null,
   "metadata": {
    "collapsed": false
   },
   "outputs": [],
   "source": [
    "train_labels.shape"
   ]
  },
  {
   "cell_type": "code",
   "execution_count": null,
   "metadata": {
    "collapsed": false
   },
   "outputs": [],
   "source": [
    "##### \n",
    "# With gradient descent training, even this much data is prohibitive.\n",
    "# Subset the training data for faster turnaround.\n",
    "train_subset = 10000\n",
    "\n",
    "graph = tf.Graph()\n",
    "with graph.as_default():\n",
    "\n",
    "  # Input data.\n",
    "  # Load the training, validation and test data into constants that are\n",
    "  # attached to the graph.\n",
    "  tf_train_dataset = tf.constant(train_dataset[:train_subset, :])\n",
    "  tf_train_labels = tf.constant(train_labels[:train_subset])\n",
    "  tf_valid_dataset = tf.constant(valid_dataset)\n",
    "  tf_test_dataset = tf.constant(test_dataset)\n",
    "  \n",
    "  # Variables.\n",
    "  layer_name = 'layer1'\n",
    "#   with tf.name_scope(\"weights\"):\n",
    "  weights = tf.Variable(\n",
    "    tf.truncated_normal([image_size * image_size, num_labels]),name='weights')\n",
    "  variable_summaries(weights, layer_name + '/weights',0)\n",
    "#   with tf.name_scope(\"biases\"):\n",
    "  biases = tf.Variable(tf.zeros([num_labels]),name='biases')\n",
    "  variable_summaries(weights, layer_name + '/biases',0)\n",
    "#   with tf.name_scope(\"priors\"):\n",
    "#   priors = tf.Variable(tf.ones([num_labels,train_subset])*0.9,name='priors')\n",
    "#   priors = tf.Variable(tf.ones([train_subset,num_labels])*0.9,name='priors')\n",
    "  priors = tf.Variable((tf_train_labels)*0.8+.1,name='priors')\n",
    "  variable_summaries(priors, layer_name + '/priors',1) \n",
    "\n",
    "  logits = tf.nn.softmax(tf.matmul(tf_train_dataset, weights) + biases)\n",
    "# z * -log(logits) + (1 - z) * -log(1 - logits)\n",
    "  allcost = tf.mul(tf_train_labels,-tf.log(logits))#+tf.mul((1-tf_train_labels),-tf.log(1-logits));\n",
    "#     allcost = tf.mul(tf_train_labels,-tf.log(logits))#+tf.mul((1-tf_train_labels),-tf.log(1-logits));\n",
    "#   print(allcost.get_shape())\n",
    "  loss = tf.reduce_mean(tf.reduce_sum(tf.mul(tf.nn.relu6(priors*6),allcost),1),0)/tf.reduce_mean(tf.reduce_sum(tf.nn.relu6(priors*6),1),0)\n",
    "  \n",
    "\n",
    "\n",
    "#   tm = tf.nn.softmax_cross_entropy_with_logits(logits, tf_train_labels)\n",
    "# x - x * z + log(1 + exp(-x)) and x = logits z = targets\n",
    "#   print(priors.get_shape())\n",
    "#   print(logits.get_shape())\n",
    "#   print(train_labels.get_shape())\n",
    "# this is calculating sigmoid with cross entropy not softmax_cross_entropy....\n",
    "#   loss = tf.reduce_mean(tf.reduce_sum(\n",
    "#             tf.mul(tf.nn.relu6(priors*6),logits-tf.mul(logits,tf_train_labels)+tf.log(1+tf.exp(-logits)))\n",
    "#             ,1),0)/tf.reduce_mean(tf.reduce_sum(tf.nn.relu6(priors*6),1),0)\n",
    "\n",
    "  \n",
    "  \n",
    "#   loss=tm\n",
    "#     tf.reduce_mean(tf.mul(\n",
    "#             tf.nn.relu6(priors*6),tm\n",
    "#                                 )\n",
    "#                        )/tf.reduce_mean(tf.nn.relu6(priors*6))\n",
    "#   tf.scalar_summary('loss/' + layer_name, loss)\n",
    "#   loss = tf.reduce_mean(tf.nn.softmax_cross_entropy_with_logits(logits, tf_train_labels)                                \n",
    "#                        )\n",
    "  # Optimizer.\n",
    "  # We are going to find the minimum of this loss using gradient descent.\n",
    "  optimizer = tf.train.GradientDescentOptimizer(0.5).minimize(loss)\n",
    "#   optimizer = tf.train.AdagradOptimizer(learning_rate=0.5, initial_accumulator_value=0.1, use_locking=False, name='Adagrad')\n",
    "#   optimizer = tf.train.AdamOptimizer(learning_rate=0.5) # Adam Optimizer\n",
    "#   train_op = optimizer.apply_gradients(zip(grads, tvars))\n",
    "  # Predictions for the training, validation, and test data.\n",
    "  # These are not part of training, but merely here so that we can report\n",
    "  # accuracy figures as we train.\n",
    "  train_prediction = logits\n",
    "  valid_prediction = tf.nn.softmax(\n",
    "    tf.matmul(tf_valid_dataset, weights) + biases)\n",
    "  test_prediction = tf.nn.softmax(tf.matmul(tf_test_dataset, weights) + biases)\n",
    " \n",
    "\n"
   ]
  },
  {
   "cell_type": "code",
   "execution_count": null,
   "metadata": {
    "collapsed": false,
    "scrolled": false
   },
   "outputs": [],
   "source": [
    "num_steps = 20000\n",
    "\n",
    "with tf.Session(graph=graph) as session:\n",
    "  # This is a one-time operation which ensures the parameters get initialized as\n",
    "  # we described in the graph: random weights for the matrix, zeros for the\n",
    "  # biases. \n",
    "  tf.initialize_all_variables().run()\n",
    "\n",
    "    \n",
    "  summary_op = tf.merge_all_summaries()\n",
    "  train_dir = 'tmp'\n",
    "  summary_writer = tf.train.SummaryWriter(train_dir, session.graph)  \n",
    "  print('Initialized')\n",
    "  for step in range(num_steps):\n",
    "    # Run the computations. We tell .run() that we want to run the optimizer,\n",
    "    # and get the loss value and the training predictions returned as numpy\n",
    "    # arrays.\n",
    "    _, l, predictions = session.run([optimizer, loss, train_prediction])\n",
    "    if (step % 100 == 0):\n",
    "      print('Loss at step %d: %f' % (step, l))\n",
    "      acc=accuracy(predictions, train_labels[:train_subset, :])\n",
    "      print('Training accuracy: %.1f%%' % acc)\n",
    "      # Calling .eval() on valid_prediction is basically like calling run(), but\n",
    "      # just to get that one numpy array. Note that it recomputes all its graph\n",
    "      # dependencies.\n",
    "      print('Validation accuracy: %.1f%%' % accuracy(\n",
    "        valid_prediction.eval(), valid_labels))\n",
    "      tf.scalar_summary('train_acc/' + layer_name, acc)\n",
    "      summary_str = session.run(summary_op)\n",
    "      summary_writer.add_summary(summary_str, step)  \n",
    "\n",
    "  print('Test accuracy: %.1f%%' % accuracy(test_prediction.eval(), test_labels))\n",
    "  "
   ]
  },
  {
   "cell_type": "markdown",
   "metadata": {},
   "source": [
    "20% random reclassification \n",
    "Using the full prior matrix, it took  longer but got to:\n",
    "Loss at step 7900: 0.067337\n",
    "Training accuracy: 71.3%\n",
    "Validation accuracy: 76.6%\n",
    "Test accuracy: 83.5%\n",
    "Loss at step 19900: 0.009899\n",
    "Training accuracy: 73.9%\n",
    "Validation accuracy: 78.9%\n",
    "    Test accuracy: 86.3%"
   ]
  },
  {
   "cell_type": "raw",
   "metadata": {
    "colab_type": "text",
    "id": "x68f-hxRGm3H"
   },
   "source": [
    "GRadient descent"
   ]
  },
  {
   "cell_type": "code",
   "execution_count": null,
   "metadata": {
    "cellView": "both",
    "colab": {
     "autoexec": {
      "startup": false,
      "wait_interval": 0
     }
    },
    "colab_type": "code",
    "collapsed": false,
    "id": "qhPMzWYRGrzM"
   },
   "outputs": [],
   "source": [
    "batch_size = 128\n",
    "\n",
    "graph = tf.Graph()\n",
    "with graph.as_default():\n",
    "\n",
    "  # Input data. For the training data, we use a placeholder that will be fed\n",
    "  # at run time with a training minibatch.\n",
    "  tf_train_dataset = tf.placeholder(tf.float32,\n",
    "                                    shape=(batch_size, image_size * image_size))\n",
    "  tf_train_labels = tf.placeholder(tf.float32, shape=(batch_size, num_labels))\n",
    "  tf_valid_dataset = tf.constant(valid_dataset)\n",
    "  tf_test_dataset = tf.constant(test_dataset)\n",
    "  \n",
    "    # Variables.\n",
    "  # These are the parameters that we are going to be training. The weight\n",
    "  # matrix will be initialized using random valued following a (truncated)\n",
    "  # normal distribution. The biases get initialized to zero.\n",
    "  #with tf.name_scope('hidden') as scope:\n",
    "  layer_name = 'layer1'\n",
    "#   with tf.name_scope(\"weights\"):\n",
    "  weights = tf.Variable(\n",
    "    tf.truncated_normal([image_size * image_size, num_labels]),name='weights')\n",
    "  variable_summaries(weights, layer_name + '/weights',0)\n",
    "#   with tf.name_scope(\"biases\"):\n",
    "  biases = tf.Variable(tf.zeros([num_labels]),name='biases')\n",
    "  variable_summaries(weights, layer_name + '/biases',0)\n",
    "#   with tf.name_scope(\"priors\"):\n",
    "  priors = tf.Variable(tf.ones([batch_size])*0.9,name='priors')\n",
    "  variable_summaries(priors, layer_name + '/priors',1)\n",
    "\n",
    "  # Training computation.x\n",
    "  # We multiply the inputs with the weight matrix, and add biases. We compute\n",
    "  # the softmax and cross-entropy (it's one operation in TensorFlow, because\n",
    "  # it's very common, and it can be optimized). We take the average of this\n",
    "  # cross-entropy across all training examples: that's our loss.\n",
    "  logits = tf.matmul(tf_train_dataset, weights) + biases\n",
    "  loss = tf.reduce_mean(tf.mul(\n",
    "            tf.nn.relu6(priors*6),tf.nn.softmax_cross_entropy_with_logits(logits, tf_train_labels)\n",
    "                                )\n",
    "                       )/tf.reduce_mean(tf.nn.relu6(priors*6))\n",
    "  # Optimizer.\n",
    "  optimizer = tf.train.GradientDescentOptimizer(0.5).minimize(loss)\n",
    "  \n",
    "  # Predictions for the training, validation, and test data.\n",
    "  train_prediction = tf.nn.softmax(logits)\n",
    "  valid_prediction = tf.nn.softmax(\n",
    "    tf.matmul(tf_valid_dataset, weights) + biases)\n",
    "  test_prediction = tf.nn.softmax(tf.matmul(tf_test_dataset, weights) + biases)"
   ]
  },
  {
   "cell_type": "markdown",
   "metadata": {
    "colab_type": "text",
    "id": "XmVZESmtG4JH"
   },
   "source": [
    "Let's run it:"
   ]
  },
  {
   "cell_type": "code",
   "execution_count": null,
   "metadata": {
    "cellView": "both",
    "colab": {
     "autoexec": {
      "startup": false,
      "wait_interval": 0
     },
     "output_extras": [
      {
       "item_id": 6
      }
     ]
    },
    "colab_type": "code",
    "collapsed": false,
    "executionInfo": {
     "elapsed": 66292,
     "status": "ok",
     "timestamp": 1449848003013,
     "user": {
      "color": "",
      "displayName": "",
      "isAnonymous": false,
      "isMe": true,
      "permissionId": "",
      "photoUrl": "",
      "sessionId": "0",
      "userId": ""
     },
     "user_tz": 480
    },
    "id": "FoF91pknG_YW",
    "outputId": "d255c80e-954d-4183-ca1c-c7333ce91d0a"
   },
   "outputs": [],
   "source": [
    "num_steps = 3001\n",
    "num_rep = 10\n",
    "with tf.Session(graph=graph) as session:\n",
    "  tf.initialize_all_variables().run()\n",
    "  print(\"Initialized\")\n",
    "  for step in range(num_steps):\n",
    "    # Pick an offset within the training data, which has been randomized.\n",
    "    # Note: we could use better randomization across epochs.\n",
    "    offset = (step * batch_size) % (train_labels.shape[0] - batch_size)\n",
    "    # Generate a minibatch.\n",
    "    batch_data = train_dataset[offset:(offset + batch_size), :]\n",
    "    batch_labels = train_labels[offset:(offset + batch_size), :]\n",
    "    # Prepare a dictionary telling the session where to feed the minibatch.\n",
    "    # The key of the dictionary is the placeholder node of the graph to be fed,\n",
    "    # and the value is the numpy array to feed to it.\n",
    "    feed_dict = {tf_train_dataset : batch_data, tf_train_labels : batch_labels}\n",
    "    # submini_batch\n",
    "    for j in range(num_rep):\n",
    "        _, l, predictions = session.run(\n",
    "          [optimizer, loss, train_prediction], feed_dict=feed_dict)\n",
    "    \n",
    "    if (step % 500 == 0):\n",
    "      print(\"Minibatch loss at step %d: %f\" % (step, l))\n",
    "      print(\"Minibatch accuracy: %.1f%%\" % accuracy(predictions, batch_labels))\n",
    "      print(\"Validation accuracy: %.1f%%\" % accuracy(\n",
    "        valid_prediction.eval(), valid_labels))\n",
    "  print(\"Test accuracy: %.1f%%\" % accuracy(test_prediction.eval(), test_labels))"
   ]
  },
  {
   "cell_type": "markdown",
   "metadata": {},
   "source": [
    "Minibatch loss at step 3000: 0.078691\n",
    "Minibatch accuracy: 96.9%\n",
    "Validation accuracy: 78.4%\n",
    "Test accuracy: 85.2%"
   ]
  },
  {
   "cell_type": "markdown",
   "metadata": {
    "colab_type": "text",
    "id": "7omWxtvLLxik"
   },
   "source": []
  },
  {
   "cell_type": "code",
   "execution_count": null,
   "metadata": {
    "collapsed": false
   },
   "outputs": [],
   "source": []
  },
  {
   "cell_type": "code",
   "execution_count": null,
   "metadata": {
    "collapsed": true
   },
   "outputs": [],
   "source": [
    "xx need to subtract of mean and normalize the images!"
   ]
  },
  {
   "cell_type": "code",
   "execution_count": null,
   "metadata": {
    "collapsed": false
   },
   "outputs": [],
   "source": [
    "num_neurons = 1024\n",
    "num_labels=10\n",
    "batch_size = 128\n",
    "graph = tf.Graph()\n",
    "with graph.as_default():\n",
    "\n",
    "  # Input data. For the training data, we use a placeholder that will be fed\n",
    "  # at run time with a training minibatch.\n",
    "  tf_train_dataset = tf.placeholder(tf.float32, shape=(batch_size, image_size * image_size))\n",
    "  tf_train_labels = tf.placeholder(tf.float32, shape=(batch_size, num_labels))\n",
    "  tf_valid_dataset = tf.constant(valid_dataset)\n",
    "  tf_test_dataset = tf.constant(test_dataset)\n",
    "  \n",
    "  # Variables.\n",
    " \n",
    "  weights1 = tf.Variable(\n",
    "    tf.random_normal([image_size * image_size, num_neurons], mean = 0,\n",
    "                     stddev = np.sqrt(6/(image_size * image_size+num_neurons)))\n",
    "    )\n",
    "  biases1 = tf.Variable(tf.zeros([num_neurons]))\n",
    "  weights2 = tf.Variable(tf.truncated_normal([num_neurons, num_labels], mean = 0,\n",
    "                     stddev = np.sqrt(6/(num_neurons+ num_neurons)))\n",
    "                        )\n",
    "  biases2 = tf.Variable(tf.zeros([num_labels]))\n",
    "  #Priors\n",
    "  priors = tf.placeholder(tf.float32, shape=(([batch_size])))\n",
    "#   variable_summaries(priors, layer_name + '/priors',1)\n",
    "\n",
    "#   loss = tf.reduce_mean((hidden1-tf_train_labels))\n",
    "  z1 = tf.nn.sigmoid(tf.matmul(tf_train_dataset, weights1) + biases1)\n",
    "  z2 = tf.matmul(z1, weights2)+biases2\n",
    "  loss = tf.reduce_mean(tf.mul(tf.nn.relu6(priors*6),tf.nn.softmax_cross_entropy_with_logits(z2,tf_train_labels))\n",
    "                       )/tf.reduce_mean(tf.nn.relu6(priors*6))\n",
    "\n",
    "  # Optimizer.\n",
    "  optimizer = tf.train.GradientDescentOptimizer(0.5).minimize(loss)\n",
    "  \n",
    "  # Predictions for the training, validation, and test data.\n",
    "  train_prediction = tf.nn.softmax(z2)\n",
    "  z1 = tf.matmul(tf_valid_dataset, weights1) + biases1\n",
    "  z2 = tf.matmul(z1, weights2)+biases2\n",
    "  valid_prediction = tf.nn.softmax(z2)\n",
    "  z1 = tf.matmul(tf_valid_dataset, weights1) + biases1\n",
    "  z2 = tf.matmul(z1, weights2)+biases2\n",
    "  test_prediction = tf.nn.softmax(z2)\n",
    "  mean_prior = tf.reduce_mean(priors)"
   ]
  },
  {
   "cell_type": "code",
   "execution_count": null,
   "metadata": {
    "collapsed": false
   },
   "outputs": [],
   "source": [
    "num_steps = 2001\n",
    "num_rep = 3\n",
    "\n",
    "with tf.Session(graph=graph) as session:\n",
    "    tf.initialize_all_variables().run()\n",
    "    print(\"Initialized\")\n",
    "    step = 0;\n",
    "    these_priors= np.ones([batch_size,], dtype = 'float32')\n",
    "    while step < num_steps:\n",
    "        step=step+1\n",
    "        # Pick an offset within the training data, which has been randomized.\n",
    "        # Note: we could use better randomization across epochs.\n",
    "        offset = (step * batch_size) % (train_labels.shape[0] - batch_size)\n",
    "        # Generate a minibatch.\n",
    "        batch_data = train_dataset[offset:(offset + batch_size), :]\n",
    "        batch_labels = train_labels[offset:(offset + batch_size), :]\n",
    "        # Prepare a dictionary telling the session where to feed the minibatch.\n",
    "        # The key of the dictionary is the placeholder node of the graph to be fed,\n",
    "        # and the value is the numpy array to feed to it.\n",
    "        #     feed_dict = {tf_train_dataset : batch_data, tf_train_labels : batch_labels, priors_priors}\n",
    "        # submini_batch\n",
    "        #  initialize priors\n",
    "\n",
    "        these_priors= np.ones([batch_size,], dtype = 'float32')\n",
    "\n",
    "        for j in range(num_rep):\n",
    "            feed_dict = {tf_train_dataset : batch_data, tf_train_labels : batch_labels, priors : these_priors}\n",
    "            _, l, predictions = session.run(\n",
    "              [optimizer, loss, train_prediction], feed_dict=feed_dict)\n",
    "\n",
    "        if (step % 50 == 0):\n",
    "          print(\"Minibatch loss at step %d: %f\" % (step, l))\n",
    "          print(\"Minibatch accuracy: %.1f%%\" % accuracy(predictions, batch_labels))\n",
    "          print(\"Validation accuracy: %.1f%%\" % accuracy(\n",
    "            valid_prediction.eval(), valid_labels))\n",
    "  print(\"Test accuracy: %.1f%%\" % accuracy(test_prediction.eval(), test_labels))"
   ]
  },
  {
   "cell_type": "code",
   "execution_count": null,
   "metadata": {
    "collapsed": false
   },
   "outputs": [],
   "source": [
    "reset_selective priors"
   ]
  },
  {
   "cell_type": "code",
   "execution_count": null,
   "metadata": {
    "collapsed": false
   },
   "outputs": [],
   "source": [
    "batch_labels.shape"
   ]
  },
  {
   "cell_type": "code",
   "execution_count": null,
   "metadata": {
    "collapsed": false
   },
   "outputs": [],
   "source": [
    "feed_dict = {tf_train_dataset : batch_data, tf_train_labels : batch_labels, priors : these_priors}\n"
   ]
  },
  {
   "cell_type": "code",
   "execution_count": null,
   "metadata": {
    "collapsed": false
   },
   "outputs": [],
   "source": [
    "train_dataset.dtype"
   ]
  },
  {
   "cell_type": "code",
   "execution_count": null,
   "metadata": {
    "collapsed": false
   },
   "outputs": [],
   "source": [
    "these_priors.dtype"
   ]
  },
  {
   "cell_type": "code",
   "execution_count": null,
   "metadata": {
    "collapsed": false
   },
   "outputs": [],
   "source": [
    "\n",
    "\n",
    "# With gradient descent training, even this much data is prohibitive.\n",
    "# Subset the training data for faster turnaround.\n",
    "train_subset = 10000\n",
    "num_neurons = image_size*image_size*4\n",
    "\n",
    "graph = tf.Graph()\n",
    "with graph.as_default():\n",
    "\n",
    "  # Input data.\n",
    "  # Load the training, validation and test data into constants that are\n",
    "  # attached to the graph.\n",
    "  tf_train_dataset = tf.constant(train_dataset[:train_subset, :])\n",
    "  tf_train_labels = tf.constant(train_labels[:train_subset])\n",
    "  tf_valid_dataset = tf.constant(valid_dataset)\n",
    "  tf_test_dataset = tf.constant(test_dataset)\n",
    "  \n",
    "  # Variables.\n",
    "  # These are the parameters that we are going to be training. The weight\n",
    "  # matrix will be initialized using random valued following a (truncated)\n",
    "  # normal distribution. The biases get initialized to zero.\n",
    "  #with tf.name_scope('hidden') as scope:\n",
    "\n",
    "  layer_name = 'layer1'\n",
    "  weights1 = tf.Variable(\n",
    "    tf.random_normal([image_size * image_size, num_neurons], mean = 0,\n",
    "                     stddev = np.sqrt(6/(image_size * image_size+num_neurons)),name='weights1')\n",
    "    )\n",
    "  variable_summaries(weights1, layer_name + '/weights',0)\n",
    "  biases1 = tf.Variable(tf.zeros([num_neurons]),name='biases1')\n",
    "  variable_summaries(biases1, layer_name + '/biases1',0)  \n",
    "  layer_name = 'layer2'\n",
    "  weights2 = tf.Variable(tf.truncated_normal([num_neurons, num_labels], mean = 0,\n",
    "                     stddev = np.sqrt(6/(num_neurons+ num_neurons)),name='weights2')\n",
    "                        )\n",
    "  variable_summaries(weights1, layer_name + '/weights2',0)\n",
    "  biases2 = tf.Variable(tf.zeros([num_labels]),name='biases2')\n",
    "  variable_summaries(biases1, layer_name + '/biases2',0)  \n",
    "  #Priors\n",
    "  priors = tf.Variable(tf.ones([train_subset])*0.90,name='priors')\n",
    "  variable_summaries(priors, layer_name + '/priors',0)  \n",
    "\n",
    "  beta = .001;\n",
    "  #   loss = tf.reduce_mean((hidden1-tf_train_labels))\n",
    "  z1 = tf.nn.sigmoid(tf.matmul(tf_train_dataset, weights1) + biases1)\n",
    "  z2 = tf.matmul(z1, weights2)+biases2\n",
    "  loss = tf.reduce_mean(tf.mul(tf.nn.relu6(priors*6),tf.nn.softmax_cross_entropy_with_logits(z2,tf_train_labels))\n",
    "                       )/tf.reduce_mean(tf.nn.relu6(priors*6)+beta*tf.nn.l2_loss(weights1) + beta*tf.nn.l2_loss(weights2))\n",
    "\n",
    "#   loss = tf.reduce_mean(tf.mul(\n",
    "#             tf.abs(1*priors),tf.nn.softmax_cross_entropy_with_logits(z2, tf_train_labels)\n",
    "#                                 )\n",
    "#                        )/tf.reduce_mean(tf.abs(1*priors))\n",
    "  \n",
    "\n",
    "  # Optimizer.\n",
    "  # We are going to find the minimum of this loss using gradient descent.\n",
    "#   optimizer = tf.train.GradientDescentOptimizer(0.5).minimize(loss)\n",
    "  global_step = tf.Variable(0, trainable=False)\n",
    "  starter_learning_rate = 2.0\n",
    "  learning_rate = tf.train.exponential_decay(starter_learning_rate, global_step,\n",
    "                                           1000, .2, staircase=True)\n",
    "  optimizer = tf.train.GradientDescentOptimizer(learning_rate).minimize(loss)\n",
    "#   optimizer = tf.train.AdagradOptimizer(learning_rate=0.5, initial_accumulator_value=0.1, use_locking=False, name='Adagrad')\n",
    "#   optimizer = tf.train.AdamOptimizer(learning_rate=0.5).minimize(loss) # Adam Optimizer\n",
    "  # Predictions for the training, validation, and test data.\n",
    "  # These are not part of training, but merely here so that we can report\n",
    "  # accuracy figures as we train.\n",
    " # Predictions for the training, validation, and test data.\n",
    "  train_prediction = tf.nn.softmax(z2)\n",
    "  z1 = tf.matmul(tf_valid_dataset, weights1) + biases1\n",
    "  z2 = tf.matmul(z1, weights2)+biases2\n",
    "  valid_prediction = tf.nn.softmax(z2)\n",
    "  z1 = tf.matmul(tf_test_dataset, weights1) + biases1\n",
    "  z2 = tf.matmul(z1, weights2)+biases2\n",
    "  test_prediction = tf.nn.softmax(z2)"
   ]
  },
  {
   "cell_type": "code",
   "execution_count": null,
   "metadata": {
    "collapsed": false,
    "scrolled": false
   },
   "outputs": [],
   "source": [
    "#GOOD VERSION\n",
    "num_steps = 50\n",
    "training_accuracy = []\n",
    "validation_accuracy = []\n",
    "with tf.Session(graph=graph) as session:\n",
    "    # This is a one-time operation which ensures the parameters get initialized as\n",
    "    # we described in the graph: random weights for the matrix, zeros for the\n",
    "    # biases. \n",
    "    tf.initialize_all_variables().run()\n",
    "\n",
    "    \n",
    "    summary_op = tf.merge_all_summaries()\n",
    "    train_dir = 'tmp'\n",
    "    summary_writer = tf.train.SummaryWriter(train_dir, session.graph)  \n",
    "    print('Initialized')\n",
    "    for step in range(num_steps):\n",
    "        # Run the computations. We tell .run() that we want to run the optimizer,\n",
    "        # and get the loss value and the training predictions returned as numpy\n",
    "        # arrays.\n",
    "        _, l, predictions = session.run([optimizer, loss, train_prediction])\n",
    "        if (step % 10 == 0):\n",
    "            summary_str = session.run(summary_op)\n",
    "            summary_writer.add_summary(summary_str, step)  \n",
    "            print('Loss at step %d: %f' % (step, l))\n",
    "            acc = accuracy(predictions, train_labels[:train_subset, :])\n",
    "            print('Training accuracy: %.1f%%' % acc)\n",
    "            training_accuracy.append(acc)\n",
    "            acc =  accuracy(valid_prediction.eval(), valid_labels)\n",
    "            print('Validation accuracy: %.1f%%' % acc)\n",
    "            validation_accuracy.append(acc)\n",
    "    print('Test accuracy: %.1f%%' % accuracy(test_prediction.eval(), test_labels))\n",
    "\n"
   ]
  },
  {
   "cell_type": "markdown",
   "metadata": {},
   "source": [
    "1024 hidden Neurons: same accuracy as logistic function?\n",
    "Loss at step 190: 0.706768\n",
    "Training accuracy: 82.2%\n",
    "Validation accuracy: 80.0%\n",
    "Test accuracy: 87.0%\n",
    "\n",
    "1024 hidden Neurons: exponential decay at 2.0 start and 0.2 decay rate. Using regularization w/ beta = .1;\n",
    "Loss at step 290: 0.029613\n",
    "Training accuracy: 81.4%\n",
    "Validation accuracy: 78.1%\n",
    "Test accuracy: 84.7% (used 410 and it still was only ~85%) \n",
    "\n",
    "1024 hidden Neurons: exponential decay at 2.0 start and 0.2 decay rate. Using regularization w/ beta = .5;\n",
    "Loss at step 290: 0.006009\n",
    "Training accuracy: 77.5%\n",
    "Validation accuracy: 75.1%\n",
    "\n",
    "1024 hidden Neurons: exponential decay at 2.0 start and 0.2 decay rate. Using regularization w/ beta = .01;\n",
    "Loss at step 290: 0.148112\n",
    "Training accuracy: 79.6%\n",
    "Validation accuracy: 78.4%\n",
    "and at \n",
    "Loss at step 490: 0.108916\n",
    "Training accuracy: 81.5%\n",
    "Validation accuracy: 79.3%\n",
    "Test accuracy: 88.0%\n",
    "\n",
    "increasing still... \n",
    "\n",
    "1024 hidden Neurons: exponential decay at 5.0 start and 0.2 decay rate. Using regularization w/ beta = .1;\n",
    "Using a sigmoid function for the priors, didn't go anywhere fast.\n",
    "\n",
    "\n",
    "3136 hidden Neurons: Adam optimizer.  Using regularization w/ beta = .1;\n",
    "Didn't move anywhere..."
   ]
  },
  {
   "cell_type": "markdown",
   "metadata": {},
   "source": [
    "# Here is the attempt at an actually deep nn. "
   ]
  },
  {
   "cell_type": "code",
   "execution_count": null,
   "metadata": {
    "collapsed": true
   },
   "outputs": [],
   "source": [
    "# TRYING TO GET BETTER ACCURACY!\n",
    "\n",
    "# With gradient descent training, even this much data is prohibitive.\n",
    "# Subset the training data for faster turnaround.\n",
    "train_subset = 10000\n",
    "num_neurons = image_size*image_size*4\n",
    "graph = tf.Graph()\n",
    "\n",
    "def model_1d(data, dropout):\n",
    "     # Hidden Layer Training computation.\n",
    "  vals = tf.matmul(data, weights1) + biases1\n",
    "  hidden1 = tf.nn.relu(vals)\n",
    "  if dropout:\n",
    "        hidden1 = tf.nn.dropout(tf.nn.relu(vals),.5)            \n",
    "  vals2 = tf.matmul(hidden1,weights2)+biases2\n",
    "  hidden2 = tf.nn.relu(vals2)\n",
    "  if dropout:\n",
    "        hidden2 = tf.nn.relu(vals2)\n",
    "  vals3 = tf.matmul(tf.nn.dropout(hidden2,.25),weights3)+biases3\n",
    "#  hidden3 = tf.nn.relu(vals3)\n",
    "#  if dropout:\n",
    "#        hidden3 = tf.nn.relu(vals3)\n",
    "#  vals4 = tf.matmul(tf.nn.dropout(hidden3,.25),weights4)+biases4\n",
    "  return vals3\n",
    "\n",
    "with graph.as_default():\n",
    "\n",
    "  # Input data.\n",
    "  # Load the training, validation and test data into constants that are\n",
    "  # attached to the graph.\n",
    "  tf_train_dataset = tf.constant(train_dataset[:train_subset, :])\n",
    "  tf_train_labels = tf.constant(train_labels[:train_subset])\n",
    "  tf_valid_dataset = tf.constant(valid_dataset)\n",
    "  tf_test_dataset = tf.constant(test_dataset)\n",
    "  \n",
    "  # Variables.\n",
    "  # These are the parameters that we are going to be training. The weight\n",
    "  # matrix will be initialized using random valued following a (truncated)\n",
    "  # normal distribution. The biases get initialized to zero.\n",
    "  #with tf.name_scope('hidden') as scope:\n",
    "\n",
    "  layer_name = 'layer1'\n",
    "  weights1 = tf.Variable(\n",
    "    tf.random_normal([image_size * image_size, num_neurons], mean = 0,\n",
    "                     stddev = np.sqrt(6/(image_size * image_size+num_neurons)),name='weights1')\n",
    "    )\n",
    "  variable_summaries(weights1, layer_name + '/weights',0)\n",
    "  biases1 = tf.Variable(tf.zeros([num_neurons]),name='biases1')\n",
    "  variable_summaries(biases1, layer_name + '/biases1',0)  \n",
    "  layer_name = 'layer2'\n",
    "  weights2 = tf.Variable(tf.truncated_normal([num_neurons, num_labels], mean = 0,\n",
    "                     stddev = np.sqrt(6/(num_neurons+ num_neurons)),name='weights2')\n",
    "                        )\n",
    "  variable_summaries(weights1, layer_name + '/weights2',0)\n",
    "  biases2 = tf.Variable(tf.zeros([num_labels]),name='biases2')  \n",
    "#   variable_summaries(biases1, layer_name + '/biases2',0)  \n",
    "  #Priors\n",
    "  priors = tf.Variable(tf.ones([train_subset])*0.90,name='priors')\n",
    "#   variable_summaries(priors, layer_name + '/priors',0)  \n",
    "\n",
    "  beta = .001;\n",
    "  #   loss = tf.reduce_mean((hidden1-tf_train_labels))\n",
    "  z1 = tf.nn.sigmoid(tf.matmul(tf_train_dataset, weights1) + biases1)\n",
    "  z2 = tf.matmul(z1, weights2)+biases2\n",
    "  loss = tf.reduce_mean(tf.mul(tf.nn.relu6(priors*6),tf.nn.softmax_cross_entropy_with_logits(z2,tf_train_labels))\n",
    "                       )/tf.reduce_mean(tf.nn.relu6(priors*6)+beta*tf.nn.l2_loss(weights1) + beta*tf.nn.l2_loss(weights2))\n",
    "\n",
    "  # Optimizer.\n",
    "  # We are going to find the minimum of this loss using gradient descent.\n",
    "#   optimizer = tf.train.GradientDescentOptimizer(0.5).minimize(loss)\n",
    "  global_step = tf.Variable(0, trainable=False)\n",
    "  starter_learning_rate = 2.0\n",
    "  learning_rate = tf.train.exponential_decay(starter_learning_rate, global_step,\n",
    "                                           1000, .2, staircase=True)\n",
    "  optimizer = tf.train.GradientDescentOptimizer(learning_rate).minimize(loss)\n",
    "#   optimizer = tf.train.AdagradOptimizer(learning_rate=0.5, initial_accumulator_value=0.1, use_locking=False, name='Adagrad')\n",
    "#   optimizer = tf.train.AdamOptimizer(learning_rate=0.5).minimize(loss) # Adam Optimizer\n",
    "  # Predictions for the training, validation, and test data.\n",
    "  # These are not part of training, but merely here so that we can report\n",
    "  # accuracy figures as we train.\n",
    " # Predictions for the training, validation, and test data.\n",
    "  train_prediction = tf.nn.softmax(z2)\n",
    "  z1 = tf.matmul(tf_valid_dataset, weights1) + biases1\n",
    "  z2 = tf.matmul(z1, weights2)+biases2\n",
    "  valid_prediction = tf.nn.softmax(z2)\n",
    "  z1 = tf.matmul(tf_test_dataset, weights1) + biases1\n",
    "  z2 = tf.matmul(z1, weights2)+biases2\n",
    "  test_prediction = tf.nn.softmax(z2)\n",
    "\n",
    "num_steps = 50\n",
    "training_accuracy = []\n",
    "validation_accuracy = []\n",
    "with tf.Session(graph=graph) as session:\n",
    "    # This is a one-time operation which ensures the parameters get initialized as\n",
    "    # we described in the graph: random weights for the matrix, zeros for the\n",
    "    # biases. \n",
    "    tf.initialize_all_variables().run()\n",
    "\n",
    "    \n",
    "    summary_op = tf.merge_all_summaries()\n",
    "    train_dir = 'tmp'\n",
    "    summary_writer = tf.train.SummaryWriter(train_dir, session.graph)  \n",
    "    print('Initialized')\n",
    "    for step in range(num_steps):\n",
    "        # Run the computations. We tell .run() that we want to run the optimizer,\n",
    "        # and get the loss value and the training predictions returned as numpy\n",
    "        # arrays.\n",
    "        _, l, predictions = session.run([optimizer, loss, train_prediction])\n",
    "        if (step % 10 == 0):\n",
    "            summary_str = session.run(summary_op)\n",
    "            summary_writer.add_summary(summary_str, step)  \n",
    "            print('Loss at step %d: %f' % (step, l))\n",
    "            acc = accuracy(predictions, train_labels[:train_subset, :])\n",
    "            print('Training accuracy: %.1f%%' % acc)\n",
    "            training_accuracy.append(acc)\n",
    "            acc =  accuracy(valid_prediction.eval(), valid_labels)\n",
    "            print('Validation accuracy: %.1f%%' % acc)\n",
    "            validation_accuracy.append(acc)\n",
    "    print('Test accuracy: %.1f%%' % accuracy(test_prediction.eval(), test_labels))\n"
   ]
  },
  {
   "cell_type": "code",
   "execution_count": null,
   "metadata": {
    "collapsed": true
   },
   "outputs": [],
   "source": [
    "def model_1d(data, dropout):\n",
    "     # Hidden Layer Training computation.\n",
    "  vals = tf.matmul(data, weights1) + biases1\n",
    "  hidden1 = tf.nn.relu(vals)\n",
    "  if dropout:\n",
    "        hidden1 = tf.nn.dropout(tf.nn.relu(vals),.5)            \n",
    "  vals2 = tf.matmul(hidden1,weights2)+biases2\n",
    "  hidden2 = tf.nn.relu(vals2)\n",
    "  if dropout:\n",
    "        hidden2 = tf.nn.relu(vals2)\n",
    "  vals3 = tf.matmul(tf.nn.dropout(hidden2,.25),weights3)+biases3\n",
    "#  hidden3 = tf.nn.relu(vals3)\n",
    "#  if dropout:\n",
    "#        hidden3 = tf.nn.relu(vals3)\n",
    "#  vals4 = tf.matmul(tf.nn.dropout(hidden3,.25),weights4)+biases4\n",
    "  return vals3\n",
    "\n",
    "batch_size = 200\n",
    "#num_neurons = [image_size * image_size, 1024, num_labels]\n",
    "num_neurons = [image_size * image_size, 1024, 512, num_labels]\n",
    "graph = tf.Graph()\n",
    "with graph.as_default():\n",
    "\n",
    "  # Input data. For the training data, we use a placeholder that will be fed\n",
    "  # at run time with a training minibatch.\n",
    "  tf_train_dataset = tf.placeholder(tf.float32,\n",
    "                                    shape=(batch_size, image_size * image_size))\n",
    "  tf_train_labels = tf.placeholder(tf.float32, shape=(batch_size, num_labels))\n",
    "  tf_valid_dataset = tf.constant(valid_dataset)\n",
    "  tf_test_dataset = tf.constant(test_dataset)\n",
    "  \n",
    "  # Variables.\n",
    "  weights1 = tf.Variable(\n",
    "    tf.truncated_normal([num_neurons[0], num_neurons[1]], 0, 2.0/np.sqrt(num_neurons[0])))\n",
    "  biases1 = tf.Variable(tf.zeros([num_neurons[1]]))\n",
    "  \n",
    "  weights2 = tf.Variable(\n",
    "    tf.truncated_normal([num_neurons[1], num_neurons[2]], 0, 2.0/np.sqrt(num_neurons[1])))\n",
    "  biases2 = tf.Variable(tf.zeros([num_neurons[2]]))\n",
    "\n",
    "  weights3 = tf.Variable(\n",
    "    tf.truncated_normal([num_neurons[2], num_neurons[3]], 0, 2.0/np.sqrt(num_neurons[2])))\n",
    "  biases3 = tf.Variable(tf.zeros([num_neurons[3]]))\n",
    "\n",
    "#  weights4 = tf.Variable(\n",
    "#    tf.truncated_normal([num_neurons[3], num_neurons[4]], 0, 2.0/np.sqrt(num_neurons[3])))\n",
    "#  biases4 = tf.Variable(tf.zeros([num_neurons[4]]))\n",
    "\n",
    "\n",
    "  beta = 5e-4;\n",
    "#  logits = (tf.matmul(tf_train_dataset, weights) + biases)\n",
    "  logits = model_1d(tf_train_dataset, 1)\n",
    "#  loss = tf.reduce_mean( tf.nn.softmax_cross_entropy_with_logits(logits, tf_train_labels))\n",
    "  loss = tf.reduce_mean( tf.nn.softmax_cross_entropy_with_logits(logits, tf_train_labels)+\n",
    "                        beta*tf.nn.l2_loss(weights1) + beta*tf.nn.l2_loss(weights2))\n",
    "    \n",
    "  # Optimizer.\n",
    "  global_step = tf.Variable(0, trainable=False)\n",
    "  starter_learning_rate = 1e-3\n",
    "  learning_rate = tf.train.exponential_decay(starter_learning_rate, global_step,\n",
    "                                           1000, 0.98, staircase=True)\n",
    "  #learning_rate = 1e-2\n",
    "  optimizer = tf.train.GradientDescentOptimizer(learning_rate).minimize(loss)\n",
    "  \n",
    "  # Predictions for the training, validation, and test data.\n",
    "  train_prediction = tf.nn.softmax(logits)\n",
    "  valid_prediction = tf.nn.softmax(model_1d(tf_valid_dataset, 0))\n",
    "  test_prediction = tf.nn.softmax(model_1d(tf_test_dataset, 0))"
   ]
  },
  {
   "cell_type": "code",
   "execution_count": null,
   "metadata": {
    "collapsed": false
   },
   "outputs": [],
   "source": [
    "things to do: switch up training/validation and only have those and then use test accuracy? \n",
    "    RANDOM MINI BATCHES AND SAVE P VALUE. MAKE SURE TO NOT LOSE DETAILS AND HAVE HIGH COVERAGE OF OBSERVATIONS"
   ]
  },
  {
   "cell_type": "code",
   "execution_count": null,
   "metadata": {
    "collapsed": false
   },
   "outputs": [],
   "source": [
    "import numpy as np\n",
    "import matplotlib as mpl\n",
    "mpl.use('TkAgg')\n",
    "import matplotlib.pyplot as plt\n",
    "\n",
    "# .pyplot as plt\n",
    "validation_accuracy = np.ones(10)\n",
    "plt.plot([np.mean(validation_accuracy[i]) for i in range(len(validation_accuracy))])\n",
    "plt.show()"
   ]
  },
  {
   "cell_type": "code",
   "execution_count": null,
   "metadata": {
    "collapsed": true
   },
   "outputs": [],
   "source": [
    "TRYING WHAT THAT ONE PAPER DID"
   ]
  },
  {
   "cell_type": "code",
   "execution_count": null,
   "metadata": {
    "collapsed": true
   },
   "outputs": [],
   "source": []
  }
 ],
 "metadata": {
  "colab": {
   "default_view": {},
   "name": "2_fullyconnected.ipynb",
   "provenance": [],
   "version": "0.3.2",
   "views": {}
  },
  "kernelspec": {
   "display_name": "Python 3",
   "language": "python",
   "name": "python3"
  },
  "language_info": {
   "codemirror_mode": {
    "name": "ipython",
    "version": 3
   },
   "file_extension": ".py",
   "mimetype": "text/x-python",
   "name": "python",
   "nbconvert_exporter": "python",
   "pygments_lexer": "ipython3",
   "version": "3.5.1"
  }
 },
 "nbformat": 4,
 "nbformat_minor": 0
}

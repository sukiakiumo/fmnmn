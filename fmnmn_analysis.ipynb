{
 "cells": [
  {
   "cell_type": "code",
   "execution_count": 2,
   "metadata": {
    "collapsed": true
   },
   "outputs": [],
   "source": [
    "import pandas as pd\n",
    "import numpy as np\n",
    "from six.moves import cPickle as pickle\n",
    "from six.moves import range\n",
    "import matplotlib.pyplot as plt"
   ]
  },
  {
   "cell_type": "code",
   "execution_count": 16,
   "metadata": {
    "collapsed": false
   },
   "outputs": [],
   "source": [
    "pickle_file_root = 'results_long_0.'\n",
    "vals = [0, 2, 4, 6, 8, 9];\n",
    "\n",
    "save = []\n",
    "savedf = pd.DataFrame\n",
    "for i, n in enumerate(vals):\n",
    "  pickle_file = pickle_file_root+str(n)+'.dat'\n",
    "  with open(pickle_file, 'rb') as f:\n",
    "    save.append(pickle.load(f))"
   ]
  },
  {
   "cell_type": "code",
   "execution_count": 19,
   "metadata": {
    "collapsed": false
   },
   "outputs": [],
   "source": [
    "names = [(i) for i in vals]"
   ]
  },
  {
   "cell_type": "code",
   "execution_count": 20,
   "metadata": {
    "collapsed": false
   },
   "outputs": [],
   "source": [
    "df = pd.DataFrame(save,names)\n"
   ]
  },
  {
   "cell_type": "code",
   "execution_count": 21,
   "metadata": {
    "collapsed": false
   },
   "outputs": [],
   "source": [
    "testAcc_nR =  []\n",
    "for i,n in enumerate(vals):\n",
    "  a = df[0][n]\n",
    "  testAcc_nR.append(a['testAcc_normalRed'])"
   ]
  },
  {
   "cell_type": "code",
   "execution_count": 81,
   "metadata": {
    "collapsed": false
   },
   "outputs": [],
   "source": [
    "keylist = list(save[0][0].keys())\n",
    "newDict = dict()\n",
    "for ii, key in enumerate(keylist):\n",
    "  newDict[key] =  []\n",
    "  for i,n in enumerate(vals):\n",
    "    a = df[0][n]\n",
    "#     print(key)\n",
    "#     newDict[key] = newDict[key]+a[key]\n",
    "    newDict[key].append(a[key])\n",
    "    \n",
    "    "
   ]
  },
  {
   "cell_type": "code",
   "execution_count": 71,
   "metadata": {
    "collapsed": false
   },
   "outputs": [],
   "source": [
    "pct_rem = (np.array(vals))/10.\n"
   ]
  },
  {
   "cell_type": "code",
   "execution_count": 185,
   "metadata": {
    "collapsed": false
   },
   "outputs": [
    {
     "ename": "TypeError",
     "evalue": "append() missing 1 required positional argument: 'other'",
     "output_type": "error",
     "traceback": [
      "\u001b[0;31m---------------------------------------------------------------------------\u001b[0m",
      "\u001b[0;31mTypeError\u001b[0m                                 Traceback (most recent call last)",
      "\u001b[0;32m<ipython-input-185-f6b83cada67c>\u001b[0m in \u001b[0;36m<module>\u001b[0;34m()\u001b[0m\n\u001b[1;32m      5\u001b[0m   \u001b[0;32mwith\u001b[0m \u001b[0mopen\u001b[0m\u001b[0;34m(\u001b[0m\u001b[0mpickle_file\u001b[0m\u001b[0;34m,\u001b[0m \u001b[0;34m'rb'\u001b[0m\u001b[0;34m)\u001b[0m \u001b[0;32mas\u001b[0m \u001b[0mf\u001b[0m\u001b[0;34m:\u001b[0m\u001b[0;34m\u001b[0m\u001b[0m\n\u001b[1;32m      6\u001b[0m     \u001b[0msavedf\u001b[0m \u001b[0;34m=\u001b[0m \u001b[0mpd\u001b[0m\u001b[0;34m.\u001b[0m\u001b[0mDataFrame\u001b[0m\u001b[0;34m.\u001b[0m\u001b[0mfrom_dict\u001b[0m\u001b[0;34m(\u001b[0m\u001b[0mpickle\u001b[0m\u001b[0;34m.\u001b[0m\u001b[0mload\u001b[0m\u001b[0;34m(\u001b[0m\u001b[0mf\u001b[0m\u001b[0;34m)\u001b[0m\u001b[0;34m)\u001b[0m\u001b[0;34m\u001b[0m\u001b[0m\n\u001b[0;32m----> 7\u001b[0;31m     \u001b[0msavedfList\u001b[0m\u001b[0;34m.\u001b[0m\u001b[0mappend\u001b[0m\u001b[0;34m(\u001b[0m\u001b[0msavedf\u001b[0m\u001b[0;34m,\u001b[0m \u001b[0mignore_index\u001b[0m\u001b[0;34m=\u001b[0m\u001b[0;32mTrue\u001b[0m\u001b[0;34m)\u001b[0m\u001b[0;34m\u001b[0m\u001b[0m\n\u001b[0m\u001b[1;32m      8\u001b[0m \u001b[0;31m#     savedfList.(savedf)\u001b[0m\u001b[0;34m\u001b[0m\u001b[0;34m\u001b[0m\u001b[0m\n\u001b[1;32m      9\u001b[0m \u001b[0;31m#     savedfList = pd.merge(savedfList, savedf)\u001b[0m\u001b[0;34m\u001b[0m\u001b[0;34m\u001b[0m\u001b[0m\n",
      "\u001b[0;31mTypeError\u001b[0m: append() missing 1 required positional argument: 'other'"
     ]
    }
   ],
   "source": [
    "\n",
    "savedfList = pd.DataFrame\n",
    "for i, n in enumerate(vals):\n",
    "  pickle_file = pickle_file_root+str(n)+'.dat'\n",
    "  with open(pickle_file, 'rb') as f:\n",
    "    savedf = pd.DataFrame.from_dict(pickle.load(f))\n",
    "    savedfList.append(savedf, ignore_index=True)\n",
    "\n"
   ]
  },
  {
   "cell_type": "code",
   "execution_count": 66,
   "metadata": {
    "collapsed": false
   },
   "outputs": [
    {
     "data": {
      "text/plain": [
       "dict_keys(['trainAcc_priors', 'testAcc_prior', 'modelNormalLastStep', 'testAcc_normal', 'trainAcc_normal', 'testAcc_normalRed', 'modelNormalRedLastStep', 'trainAcc_normalRed', 'modelPriorLastStep', 'validAcc_normal', 'validAcc_normalRed', 'validAcc_prior'])"
      ]
     },
     "execution_count": 66,
     "metadata": {},
     "output_type": "execute_result"
    }
   ],
   "source": [
    "keylist"
   ]
  },
  {
   "cell_type": "code",
   "execution_count": 106,
   "metadata": {
    "collapsed": false
   },
   "outputs": [
    {
     "name": "stdout",
     "output_type": "stream",
     "text": [
      "testAcc_prior\n",
      "testAcc_normal\n",
      "testAcc_normalRed\n"
     ]
    },
    {
     "data": {
      "text/plain": [
       "<matplotlib.legend.Legend at 0x1114f7ac8>"
      ]
     },
     "execution_count": 106,
     "metadata": {},
     "output_type": "execute_result"
    },
    {
     "data": {
      "image/png": "[encoded data removed]",
      "text/plain": [
       "<matplotlib.figure.Figure at 0x1114f7c88>"
      ]
     },
     "metadata": {},
     "output_type": "display_data"
    }
   ],
   "source": [
    "pltList = [1,3,5]\n",
    "axList = []\n",
    "for i in pltList:\n",
    "  print(keylist[i])\n",
    "  plt.plot(pct_rem,newDict[keylist[i]], label = keylist[i])\n",
    "\n",
    "plt.xlabel('Percent Random Relabeled')\n",
    "plt.ylabel('Accuracy')\n",
    "plt.legend(loc = 'lower left')\n",
    "\n",
    "\n",
    "\n"
   ]
  },
  {
   "cell_type": "code",
   "execution_count": 89,
   "metadata": {
    "collapsed": false
   },
   "outputs": [
    {
     "data": {
      "text/plain": [
       "<matplotlib.text.Text at 0x110a3d710>"
      ]
     },
     "execution_count": 89,
     "metadata": {},
     "output_type": "execute_result"
    },
    {
     "data": {
      "image/png": "[encoded data removed]",
      "text/plain": [
       "<matplotlib.figure.Figure at 0x110a05278>"
      ]
     },
     "metadata": {},
     "output_type": "display_data"
    }
   ],
   "source": [
    "pltList = [2,6,8]\n",
    "for i in pltList:\n",
    "  plt.plot(pct_rem,newDict[keylist[i]])\n",
    "plt.ylabel('Last Step #')\n",
    "plt.xlabel('Accuracy')\n"
   ]
  },
  {
   "cell_type": "code",
   "execution_count": 102,
   "metadata": {
    "collapsed": false
   },
   "outputs": [
    {
     "data": {
      "text/plain": [
       "'modelNormalLastStep'"
      ]
     },
     "execution_count": 102,
     "metadata": {},
     "output_type": "execute_result"
    }
   ],
   "source": [
    "keylist[2]"
   ]
  },
  {
   "cell_type": "code",
   "execution_count": 175,
   "metadata": {
    "collapsed": false
   },
   "outputs": [
    {
     "name": "stdout",
     "output_type": "stream",
     "text": [
      "0\n",
      "1\n",
      "2\n",
      "f\n",
      "4\n",
      "b\n",
      "6\n",
      "f\n",
      "8\n",
      "9\n",
      "10\n",
      "f\n",
      "12\n",
      "13\n",
      "14\n",
      "f\n",
      "16\n",
      "b\n",
      "18\n",
      "f\n",
      "c\n",
      "21\n",
      "22\n",
      "f\n",
      "24\n",
      "25\n",
      "26\n",
      "f\n",
      "28\n",
      "b\n",
      "30\n",
      "f\n",
      "32\n",
      "33\n",
      "34\n",
      "f\n",
      "36\n",
      "37\n",
      "38\n",
      "f\n",
      "40\n",
      "c\n",
      "42\n",
      "f\n",
      "44\n",
      "45\n",
      "46\n",
      "f\n",
      "48\n",
      "49\n",
      "50\n",
      "f\n",
      "52\n",
      "b\n",
      "54\n",
      "f\n",
      "56\n",
      "57\n",
      "58\n",
      "f\n",
      "60\n",
      "61\n",
      "c\n",
      "f\n",
      "64\n",
      "b\n",
      "66\n",
      "f\n",
      "68\n",
      "69\n",
      "70\n",
      "f\n",
      "72\n",
      "73\n",
      "74\n",
      "f\n",
      "76\n",
      "b\n",
      "78\n",
      "f\n",
      "80\n",
      "81\n",
      "82\n",
      "f\n",
      "84\n",
      "85\n",
      "86\n",
      "f\n",
      "88\n",
      "b\n",
      "90\n",
      "f\n",
      "92\n",
      "93\n",
      "94\n",
      "f\n",
      "96\n",
      "97\n",
      "98\n",
      "f\n"
     ]
    }
   ],
   "source": [
    "a = {3: 'f', 5: 'b', 20: 'c'}\n",
    "for ii in range(100):\n",
    "  printVal = ii\n",
    "  for k,j in enumerate(a.keys()):\n",
    "    if (ii+1)%(j+1)==0:\n",
    "      printVal = a[j]\n",
    "      break\n",
    "  print(printVal)\n",
    "\n"
   ]
  },
  {
   "cell_type": "code",
   "execution_count": 14,
   "metadata": {
    "collapsed": false
   },
   "outputs": [
    {
     "name": "stdout",
     "output_type": "stream",
     "text": [
      "0\n",
      "1\n",
      "2\n",
      "f\n",
      "4\n",
      "b\n",
      "6\n",
      "f\n",
      "8\n",
      "9\n",
      "10\n",
      "f\n",
      "12\n",
      "13\n",
      "14\n",
      "f\n",
      "16\n",
      "b\n",
      "18\n",
      "f\n",
      "c\n",
      "21\n",
      "22\n",
      "f\n",
      "24\n",
      "25\n",
      "26\n",
      "f\n",
      "28\n",
      "b\n",
      "30\n",
      "f\n",
      "32\n",
      "33\n",
      "34\n",
      "f\n",
      "36\n",
      "37\n",
      "38\n",
      "f\n",
      "40\n",
      "c\n",
      "42\n",
      "f\n",
      "44\n",
      "45\n",
      "46\n",
      "f\n",
      "48\n",
      "49\n",
      "50\n",
      "f\n",
      "52\n",
      "b\n",
      "54\n",
      "f\n",
      "56\n",
      "57\n",
      "58\n",
      "f\n",
      "60\n",
      "61\n",
      "c\n",
      "f\n",
      "64\n",
      "b\n",
      "66\n",
      "f\n",
      "68\n",
      "69\n",
      "70\n",
      "f\n",
      "72\n",
      "73\n",
      "74\n",
      "f\n",
      "76\n",
      "b\n",
      "78\n",
      "f\n",
      "80\n",
      "81\n",
      "82\n",
      "f\n",
      "84\n",
      "85\n",
      "86\n",
      "f\n",
      "88\n",
      "b\n",
      "90\n",
      "f\n",
      "92\n",
      "93\n",
      "94\n",
      "f\n",
      "96\n",
      "97\n",
      "98\n",
      "f\n"
     ]
    }
   ],
   "source": [
    "\n",
    "a = {3: 'f', 5: 'b', 20: 'c'}\n",
    "for ii in range(100):\n",
    "  printVal = ii\n",
    "  for k,j in enumerate(a.keys()):\n",
    "    if (ii+1)%(j+1)==0:\n",
    "      printVal = a[j]\n",
    "      break\n",
    "  print(printVal)\n",
    "\n"
   ]
  },
  {
   "cell_type": "code",
   "execution_count": 15,
   "metadata": {
    "collapsed": false
   },
   "outputs": [
    {
     "data": {
      "text/plain": [
       "[3, 20, 5]"
      ]
     },
     "execution_count": 15,
     "metadata": {},
     "output_type": "execute_result"
    }
   ],
   "source": [
    "nums = np.array(range(100))\n",
    "list(a.keys())"
   ]
  },
  {
   "cell_type": "code",
   "execution_count": 13,
   "metadata": {
    "collapsed": false
   },
   "outputs": [
    {
     "data": {
      "text/plain": [
       "array([ 0,  1,  2,  3,  4,  5,  6,  7,  8,  9, 10, 11, 12, 13, 14, 15, 16,\n",
       "       17, 18, 19, 20, 21, 22, 23, 24, 25, 26, 27, 28, 29, 30, 31, 32, 33,\n",
       "       34, 35, 36, 37, 38, 39, 40, 41, 42, 43, 44, 45, 46, 47, 48, 49, 50,\n",
       "       51, 52, 53, 54, 55, 56, 57, 58, 59, 60, 61, 62, 63, 64, 65, 66, 67,\n",
       "       68, 69, 70, 71, 72, 73, 74, 75, 76, 77, 78, 79, 80, 81, 82, 83, 84,\n",
       "       85, 86, 87, 88, 89, 90, 91, 92, 93, 94, 95, 96, 97, 98, 99])"
      ]
     },
     "execution_count": 13,
     "metadata": {},
     "output_type": "execute_result"
    }
   ],
   "source": [
    "a"
   ]
  },
  {
   "cell_type": "code",
   "execution_count": null,
   "metadata": {
    "collapsed": true
   },
   "outputs": [],
   "source": []
  }
 ],
 "metadata": {
  "kernelspec": {
   "display_name": "Python 3",
   "language": "python",
   "name": "python3"
  }
 },
 "nbformat": 4,
 "nbformat_minor": 0
}

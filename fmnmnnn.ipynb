{
 "cells": [
  {
   "cell_type": "code",
   "execution_count": 1,
   "metadata": {
    "collapsed": false
   },
   "outputs": [],
   "source": [
    "# These are all the modules we'll be using later. Make sure you can import them\n",
    "# before proceeding further.\n",
    "from __future__ import print_functionl\n",
    "import numpy as np\n",
    "import tensorflow as tf\n",
    "from six.moves import cPickle as pickle\n",
    "from six.moves import range"
   ]
  },
  {
   "cell_type": "code",
   "execution_count": 2,
   "metadata": {
    "collapsed": false
   },
   "outputs": [
    {
     "name": "stdout",
     "output_type": "stream",
     "text": [
      "Training set (200000, 28, 28) (200000,)\n",
      "Validation set (10000, 28, 28) (10000,)\n",
      "Test set (10000, 28, 28) (10000,)\n",
      "Training set (200000, 784) (200000, 10)\n",
      "Validation set (10000, 784) (10000, 10)\n",
      "Test set (10000, 784) (10000, 10)\n"
     ]
    }
   ],
   "source": [
    "pickle_file = 'notMNIST.pickle'\n",
    "\n",
    "with open(pickle_file, 'rb') as f:\n",
    "  save = pickle.load(f)\n",
    "  train_dataset = save['train_dataset']\n",
    "  train_labels = save['train_labels']\n",
    "  valid_dataset = save['valid_dataset']\n",
    "  valid_labels = save['valid_labels']\n",
    "  test_dataset = save['test_dataset']\n",
    "  test_labels = save['test_labels']\n",
    "  del save  # hint to help gc free up memory\n",
    "  print('Training set', train_dataset.shape, train_labels.shape)\n",
    "  print('Validation set', valid_dataset.shape, valid_labels.shape)\n",
    "  print('Test set', test_dataset.shape, test_labels.shape)\n",
    "\n",
    "image_size = 28\n",
    "num_labels = 10\n",
    "\n",
    "def reformat(dataset, labels):\n",
    "  dataset = dataset.reshape((-1, image_size * image_size)).astype(np.float32)\n",
    "  # Map 0 to [1.0, 0.0, 0.0 ...], 1 to [0.0, 1.0, 0.0 ...]\n",
    "  labels = (np.arange(num_labels) == labels[:,None]).astype(np.float32)\n",
    "  return dataset, labels\n",
    "train_dataset, train_labels = reformat(train_dataset, train_labels)\n",
    "valid_dataset, valid_labels = reformat(valid_dataset, valid_labels)\n",
    "test_dataset, test_labels = reformat(test_dataset, test_labels)\n",
    "print('Training set', train_dataset.shape, train_labels.shape)\n",
    "print('Validation set', valid_dataset.shape, valid_labels.shape)\n",
    "print('Test set', test_dataset.shape, test_labels.shape)"
   ]
  },
  {
   "cell_type": "code",
   "execution_count": 3,
   "metadata": {
    "collapsed": false
   },
   "outputs": [],
   "source": [
    "def accuracy(predictions, labels):\n",
    "  return (100.0 * np.sum(np.argmax(predictions, 1) == np.argmax(labels, 1))\n",
    "          / predictions.shape[0])\n",
    "\n",
    "def variable_summaries(var, name,dorelu):\n",
    "  with tf.name_scope(\"summaries\"):\n",
    "    mean = tf.reduce_mean(var)\n",
    "    tf.scalar_summary('mean/' + name, mean)\n",
    "    if dorelu==1:\n",
    "        var = tf.nn.relu6(var)\n",
    "        \n",
    "    with tf.name_scope('stddev'):\n",
    "      stddev = tf.sqrt(tf.reduce_sum(tf.square(var - mean)))\n",
    "    tf.scalar_summary('sttdev/' + name, stddev)\n",
    "    tf.scalar_summary('max/' + name, tf.reduce_max(var))\n",
    "    tf.scalar_summary('min/' + name, tf.reduce_min(var))\n",
    "    tf.scalar_summary('sparsity/'+ name, tf.nn.zero_fraction(var))\n",
    "    tf.histogram_summary(name, var)\n",
    "    \n",
    "def variable_summaries_list(varDict):\n",
    "  for name,var in varDict.items():\n",
    "    with tf.name_scope(\"summaries\"):\n",
    "      mean = tf.reduce_mean(var)\n",
    "      tf.scalar_summary(name + 'mean/', mean)\n",
    "      tf.scalar_summary(name + 'sttdev/',  tf.sqrt(tf.reduce_sum(tf.square(var - mean))))\n",
    "      tf.scalar_summary(name + 'max/', tf.reduce_max(var))\n",
    "      tf.scalar_summary(name + 'min/', tf.reduce_min(var))\n",
    "      tf.scalar_summary(name + 'sparsity/', tf.nn.zero_fraction(var))\n",
    "      tf.histogram_summary(name, var)\n",
    "\n",
    "def testAccuracy(arrayValue,stopthresh=0.5):\n",
    "  #   print('V1, V2, Diff, Std = (%.03f, %.03f, %.03f, %.03f)' % \n",
    "  #         (arrayValue[-1], np.mean(arrayValue[-7:-2]),np.abs(arrayValue[-1]-np.mean(arrayValue[-7:-2])), np.std(arrayValue[-7:-2])))\n",
    "  notChanging = np.abs(arrayValue[-1]-np.mean(arrayValue[-7:-2])) < stopthresh*np.std(arrayValue[-7:-2])\n",
    "  slopeNegative = np.mean(np.gradient(arrayValue[-7:-1]))<0\n",
    "  return notChanging|slopeNegative\n",
    "  "
   ]
  },
  {
   "cell_type": "code",
   "execution_count": 4,
   "metadata": {
    "collapsed": false
   },
   "outputs": [
    {
     "data": {
      "text/plain": [
       "array([[-0.5       , -0.5       , -0.5       , ..., -0.49607843,\n",
       "        -0.48823529, -0.5       ],\n",
       "       [ 0.5       ,  0.5       ,  0.5       , ...,  0.49215686,\n",
       "         0.5       ,  0.39411765],\n",
       "       [-0.5       , -0.5       , -0.5       , ...,  0.5       ,\n",
       "         0.49607843,  0.31176472],\n",
       "       ..., \n",
       "       [ 0.24509804,  0.5       ,  0.49215686, ..., -0.5       ,\n",
       "        -0.5       , -0.5       ],\n",
       "       [-0.5       , -0.5       , -0.5       , ..., -0.44117647,\n",
       "        -0.5       , -0.5       ],\n",
       "       [-0.5       , -0.5       , -0.48823529, ..., -0.5       ,\n",
       "        -0.5       , -0.5       ]], dtype=float32)"
      ]
     },
     "execution_count": 4,
     "metadata": {},
     "output_type": "execute_result"
    }
   ],
   "source": [
    "train_dataset"
   ]
  },
  {
   "cell_type": "code",
   "execution_count": 5,
   "metadata": {
    "collapsed": false
   },
   "outputs": [],
   "source": [
    "def model_1d(data, w1,w2,w3,b1,b2,b3, dropoutList):\n",
    "     # Hidden Layer Training computation.\n",
    "  vals = tf.matmul(data, w1) + b1\n",
    "  hidden1 = tf.nn.dropout(tf.nn.tanh(vals),dropoutList[0])            \n",
    "  vals2 = tf.matmul(hidden1,w2)+b2\n",
    "  hidden2 = tf.nn.dropout(tf.nn.tanh(vals2),dropoutList[1])            \n",
    "  vals3 = tf.matmul(hidden2,w3)+b3\n",
    "#  hidden3 = tf.nn.relu(vals3)\n",
    "#  if dropout:\n",
    "#        hidden3 = tf.nn.relu(vals3)\n",
    "#  vals4 = tf.matmul(tf.nn.dropout(hidden3,.25),weights4)+biases4\n",
    "  return vals3\n",
    "\n",
    "def exploreData(datasetDict, paramDict):\n",
    "  doWrite = 0; # this isn't working\n",
    "  tf.reset_default_graph()\n",
    "  tf.Graph().as_default()\n",
    "  graph = tf.Graph()\n",
    "  learnRate = paramDict['learnRate']\n",
    "  with graph.as_default():\n",
    "    # With Priors\n",
    "    # The datas\n",
    "    dropoutList = [1,1,1];\n",
    "    betalist = [5e-4,5e-4,5e-4]\n",
    "    tf_trainDataset = tf.constant(datasetDict['trainDataset'])\n",
    "    tf_trainLabels = tf.constant(datasetDict['trainLabels'])\n",
    "    train_subset = len(datasetDict['trainLabels'])\n",
    "\n",
    "    tf_trainDatasetRed = tf.constant(datasetDict['trainDatasetRed'])\n",
    "    tf_trainLabelsRed = tf.constant(datasetDict['trainLabelsRed'])\n",
    "    tf_validDataset = tf.constant(datasetDict['validDataset'])\n",
    "    tf_validLabels = tf.constant(datasetDict['validLabels'])\n",
    "    tf_testDataset = tf.constant(datasetDict['testDataset'])\n",
    "    tf_testLabels = tf.constant(datasetDict['testLabels'])\n",
    "    \n",
    "    num_neurons = [image_size * image_size, 512, 256, num_labels]\n",
    "    # Variables.\n",
    "    #Initialize variables\n",
    "    layer_name = 'layer1_wprior'\n",
    "    \n",
    "     # Variables.\n",
    "    w11 = tf.Variable(tf.random_normal([num_neurons[0], num_neurons[1]], 0, 2.0/np.sqrt(num_neurons[0]+num_neurons[1])))\n",
    "    b11 = tf.Variable(tf.zeros([num_neurons[1]]))\n",
    "    w12 = tf.Variable(tf.random_normal([num_neurons[1], num_neurons[2]], 0, 2.0/np.sqrt(num_neurons[1]+num_neurons[2])))\n",
    "    b12 = tf.Variable(tf.zeros([num_neurons[2]]))\n",
    "    w13 = tf.Variable(tf.random_normal([num_neurons[2], num_neurons[3]], 0, 2.0/np.sqrt(num_neurons[2]+num_neurons[3])))\n",
    "    b13 = tf.Variable(tf.zeros([num_neurons[3]]))\n",
    "    \n",
    "    # All priors are given the same initial value.\n",
    "    priors = tf.Variable(tf.ones([train_subset])*np.float(paramDict['priorInit']),name='priors')\n",
    "#     priors = tf.add(priors,tf.random_normal(train_subset,0,.05))\n",
    "    # Training computation.\n",
    "    # Find the classification estimation 'z' value\n",
    "    logits = model_1d(tf_trainDataset, w11,w12,w13,b11,b12,b13, dropoutList)\n",
    "    # Calculate the cross-entropy loss. \n",
    "#     loss1 = tf.reduce_mean(tf.mul(\n",
    "#               tf.nn.relu6(priors*6),tf.nn.softmax_cross_entropy_with_logits(logits, tf_trainLabels)\n",
    "#                                   )\n",
    "#                          )/tf.reduce_mean(tf.nn.relu6(priors*6))\n",
    "    loss1 = tf.reduce_mean(tf.mul(\n",
    "              tf.nn.sigmoid(priors),tf.nn.softmax_cross_entropy_with_logits(logits, tf_trainLabels)\n",
    "                                  )\n",
    "                         )/tf.reduce_mean(tf.nn.sigmoid(priors))+betalist[0]*tf.nn.l2_loss(w11)+betalist[1]*tf.nn.l2_loss(w12)+betalist[2]*tf.nn.l2_loss(w13)\n",
    "    # Optimizer.\n",
    "    # We are going to find the minimum of this loss using gradient descent.\n",
    "    optimizer1 = tf.train.GradientDescentOptimizer(learnRate).minimize(loss1)\n",
    "    # Predictions for the training, validation. \n",
    "    # Do not use the priors to perform classification!\n",
    "    train_prediction1 = tf.nn.softmax(logits)\n",
    "    valid_prediction1 = tf.nn.softmax(model_1d(tf_validDataset, w11,w12,w13,b11,b12,b13, [1,1,1]))\n",
    "    test_prediction1 = tf.nn.softmax(model_1d(tf_testDataset, w11,w12,w13,b11,b12,b13, [1,1,1]))\n",
    "\n",
    "    # WITHOUT PRIORS\n",
    "    layer_name = 'layer1_normal'\n",
    "    w21 = tf.Variable(w11.initialized_value())\n",
    "    b21 = tf.Variable(b11.initialized_value())\n",
    "    w22 = tf.Variable(w12.initialized_value())\n",
    "    b22 = tf.Variable(b12.initialized_value())\n",
    "    w23 = tf.Variable(w13.initialized_value())\n",
    "    b23 = tf.Variable(b13.initialized_value())\n",
    "    \n",
    "    # Training computation.\n",
    "    # Find the classification estimation 'z' value\n",
    "    logits2 = model_1d(tf_trainDataset, w21,w22,w23,b21,b22,b23, dropoutList)\n",
    "\n",
    "    # Calculate the cross-entropy loss. \n",
    "    loss2 = tf.reduce_mean(tf.nn.softmax_cross_entropy_with_logits(logits2, tf_trainLabels))+betalist[0]*tf.nn.l2_loss(w21)+betalist[1]*tf.nn.l2_loss(w22)+betalist[2]*tf.nn.l2_loss(w23)\n",
    "\n",
    "    # Optimizer.\n",
    "    # We are going to find the minimum of this loss using gradient descent.\n",
    "    optimizer2 = tf.train.GradientDescentOptimizer(learnRate).minimize(loss2)\n",
    "    # Predictions for the training, validation. \n",
    "    train_prediction2 = tf.nn.softmax(logits2)\n",
    "    valid_prediction2 = tf.nn.softmax(model_1d(tf_validDataset, w21,w22,w23,b21,b22,b23, [1,1,1]))\n",
    "    test_prediction2 = tf.nn.softmax(model_1d(tf_testDataset, w21,w22,w23,b21,b22,b23, [1,1,1]))                                  \n",
    "\n",
    "    # WITHOUT PRIORS REDUCED DATA\n",
    "    layer_name = 'layer1_normal_reducedDatas'\n",
    "    w31 = tf.Variable(w11.initialized_value())\n",
    "    b31 = tf.Variable(b11.initialized_value())\n",
    "    w32 = tf.Variable(w12.initialized_value())\n",
    "    b32 = tf.Variable(b12.initialized_value())\n",
    "    w33 = tf.Variable(w13.initialized_value())\n",
    "    b33 = tf.Variable(b13.initialized_value())\n",
    "    # Training computation.\n",
    "    logits3 = model_1d(tf_trainDatasetRed, w21,w22,w23,b21,b22,b23, dropoutList)\n",
    "\n",
    "    # Calculate the cross-entropy loss. \n",
    "    loss3 = tf.reduce_mean(tf.nn.softmax_cross_entropy_with_logits(logits3, tf_trainLabelsRed))+100*betalist[0]*tf.nn.l2_loss(w31)+100*betalist[1]*tf.nn.l2_loss(w32)+100*betalist[2]*tf.nn.l2_loss(w33)   \n",
    "    # Optimizer.\n",
    "    # We are going to find the minimum of this loss using gradient descent.\n",
    "    optimizer3 = tf.train.GradientDescentOptimizer(learnRate).minimize(loss3)\n",
    "    # Predictions for the training, validation. \n",
    "    train_prediction3 = tf.nn.softmax(logits3)\n",
    "    valid_prediction3 = tf.nn.softmax(model_1d(tf_validDataset, w31,w32,w33,b31,b32,b33, [1,1,1]))\n",
    "    test_prediction3 = tf.nn.softmax(model_1d(tf_testDataset, w31,w32,w33,b31,b32,b33, [1,1,1]))  \n",
    "\n",
    "  train_acc_priors = []\n",
    "  valid_acc_priors = []\n",
    "  train_acc_normal = []\n",
    "  valid_acc_normal = []\n",
    "  train_acc_normal_red = []\n",
    "  valid_acc_normal_red = []\n",
    "#   num_steps = 40000\n",
    "  num_steps = 1000\n",
    "  train1 = True\n",
    "  train2 = True\n",
    "  train3 = True\n",
    "  with tf.Session(graph=graph) as session:\n",
    "    # Initialize\n",
    "    tf.initialize_all_variables().run()    \n",
    "    summary_op = tf.merge_all_summaries()\n",
    "    train_dir = 'tmp'\n",
    "    summary_writer = tf.train.SummaryWriter(train_dir, session.graph)  \n",
    "    print('Initialized')\n",
    "    modelPriorLastStep = num_steps\n",
    "    modelNormalLastStep = num_steps\n",
    "    modelNormalRedLastStep = num_steps\n",
    "\n",
    "    for step in range(num_steps):\n",
    "      # Run the computations.\n",
    "      if train1:\n",
    "        # With priors\n",
    "        _, lvl1, predictions1 = session.run([optimizer1, loss1, train_prediction1])\n",
    "      if train2:\n",
    "        # Without priors\n",
    "        _, lvl2, predictions2 = session.run([optimizer2, loss2, train_prediction2])\n",
    "      if train3:\n",
    "        # Without priors\n",
    "        _, lvl3, predictions3 = session.run([optimizer3, loss3, train_prediction3])\n",
    "\n",
    "      if (step % 10 == 0):\n",
    "        if doWrite:\n",
    "          summary_str = session.run(summary_op)\n",
    "          summary_writer.add_summary(summary_str, step)  \n",
    "\n",
    "        acc1 = accuracy(predictions1, datasetDict['trainLabels'])\n",
    "        acc2 =  accuracy(valid_prediction1.eval(), datasetDict['validLabels'])\n",
    "        train_acc_priors.append(acc1)\n",
    "        valid_acc_priors.append(acc2)\n",
    "        print('With prior. Loss at step %d: %f . Training accuracy: %.1f%% . Validation accuracy: %.1f%%' % (step, lvl1 , acc1, acc2))\n",
    "\n",
    "        acc1 = accuracy(predictions2, datasetDict['trainLabels'])\n",
    "        acc2 =  accuracy(valid_prediction2.eval(), datasetDict['validLabels'])\n",
    "        train_acc_normal.append(acc1)\n",
    "        valid_acc_normal.append(acc2)\n",
    "        print('Nope prior. Loss at step %d: %f . Training accuracy: %.1f%% . Validation accuracy: %.1f%%' % (step, lvl2 , acc1, acc2))\n",
    "\n",
    "        acc1 = accuracy(predictions3, trainLabelsRed)\n",
    "        acc2 =  accuracy(valid_prediction3.eval(), datasetDict['validLabels'])\n",
    "        train_acc_normal_red.append(acc1)\n",
    "        valid_acc_normal_red.append(acc2)\n",
    "        print('Nope prior. Loss at step %d: %f . Training accuracy: %.1f%% . Validation accuracy: %.1f%%' % (step, lvl3 , acc1, acc2))\n",
    "      stopthresh = 0.5;\n",
    "      if step > 70:\n",
    "        if testAccuracy(train_acc_priors) and train1:\n",
    "          train1 = False\n",
    "          modelPriorLastStep = step\n",
    "          print('No longer training w/ priors')\n",
    "        if testAccuracy(train_acc_normal) and train2:\n",
    "          train2 = False\n",
    "          modelNormalLastStep = step\n",
    "          print('No longer training w/ normal method')\n",
    "        if testAccuracy(train_acc_normal_red) and train3:\n",
    "          train3 = False\n",
    "          modelNormalRedLastStep = step\n",
    "          print('No longer training w/ normal + reduced data')\n",
    "      if train1==False and train2==False and train3==False:\n",
    "        print('Stopping Training at step ', step)\n",
    "        break;\n",
    "\n",
    "    tp1 = accuracy(test_prediction1.eval(), dDict['testLabels']);\n",
    "    tp2 = accuracy(test_prediction2.eval(), dDict['testLabels']);\n",
    "    tp3 = accuracy(test_prediction3.eval(), dDict['testLabels'])\n",
    "    print('Test accuracy with prior: %.1f%%' % tp1)\n",
    "    print('Test accuracy no prior: %.1f%%' % tp2)\n",
    "    print('Test accuracy no prior on small data: %.1f%%' % tp3)\n",
    "    accDict = {'trainAcc_priors': train_acc_priors, 'validAcc_prior': valid_acc_priors,\n",
    "              'trainAcc_normal': train_acc_normal, 'validAcc_normal': valid_acc_normal,\n",
    "              'trainAcc_normalRed': train_acc_normal_red, 'validAcc_normalRed': valid_acc_normal_red, \n",
    "              'testAcc_prior': tp1, 'testAcc_normal': tp2, 'testAcc_normalRed': tp3,\n",
    "            'modelPriorLastStep': modelPriorLastStep, 'modelNormalLastStep': modelNormalLastStep,'modelNormalRedLastStep': modelNormalRedLastStep}\n",
    "    \n",
    "  return accDict\n",
    "\n"
   ]
  },
  {
   "cell_type": "code",
   "execution_count": null,
   "metadata": {
    "collapsed": false
   },
   "outputs": [],
   "source": []
  },
  {
   "cell_type": "code",
   "execution_count": 6,
   "metadata": {
    "collapsed": false,
    "scrolled": false
   },
   "outputs": [
    {
     "name": "stdout",
     "output_type": "stream",
     "text": [
      "Mislabeling 0.0 of data or 0 / 10000 examples\n",
      "Initialized\n",
      "With prior. Loss at step 0: 3.339994 . Training accuracy: 10.7% . Validation accuracy: 55.3%\n",
      "Nope prior. Loss at step 0: 3.339957 . Training accuracy: 10.7% . Validation accuracy: 63.0%\n",
      "Nope prior. Loss at step 0: 50.945671 . Training accuracy: 55.6% . Validation accuracy: 10.7%\n",
      "With prior. Loss at step 10: 1.551033 . Training accuracy: 71.0% . Validation accuracy: 70.0%\n",
      "Nope prior. Loss at step 10: 1.155748 . Training accuracy: 80.8% . Validation accuracy: 79.2%\n",
      "Nope prior. Loss at step 10: 30.198553 . Training accuracy: 80.8% . Validation accuracy: 10.5%\n",
      "With prior. Loss at step 20: 1.163072 . Training accuracy: 80.6% . Validation accuracy: 78.9%\n",
      "Nope prior. Loss at step 20: 1.013592 . Training accuracy: 85.5% . Validation accuracy: 82.8%\n",
      "Nope prior. Loss at step 20: 18.306084 . Training accuracy: 85.7% . Validation accuracy: 10.6%\n",
      "With prior. Loss at step 30: 1.045035 . Training accuracy: 84.4% . Validation accuracy: 82.2%\n",
      "Nope prior. Loss at step 30: 0.962054 . Training accuracy: 86.9% . Validation accuracy: 83.0%\n",
      "Nope prior. Loss at step 30: 11.192002 . Training accuracy: 86.9% . Validation accuracy: 10.4%\n",
      "With prior. Loss at step 40: 1.009573 . Training accuracy: 85.5% . Validation accuracy: 82.8%\n",
      "Nope prior. Loss at step 40: 0.921678 . Training accuracy: 88.1% . Validation accuracy: 83.1%\n",
      "Nope prior. Loss at step 40: 6.898692 . Training accuracy: 87.9% . Validation accuracy: 10.3%\n",
      "With prior. Loss at step 50: 0.989697 . Training accuracy: 85.9% . Validation accuracy: 82.5%\n",
      "Nope prior. Loss at step 50: 0.920925 . Training accuracy: 87.9% . Validation accuracy: 82.6%\n",
      "Nope prior. Loss at step 50: 4.332902 . Training accuracy: 87.6% . Validation accuracy: 10.4%\n",
      "With prior. Loss at step 60: 0.958652 . Training accuracy: 86.7% . Validation accuracy: 83.2%\n",
      "Nope prior. Loss at step 60: 0.911009 . Training accuracy: 88.4% . Validation accuracy: 83.3%\n",
      "Nope prior. Loss at step 60: 2.722479 . Training accuracy: 89.7% . Validation accuracy: 10.4%\n",
      "With prior. Loss at step 70: 0.936204 . Training accuracy: 87.3% . Validation accuracy: 83.2%\n",
      "Nope prior. Loss at step 70: 0.834516 . Training accuracy: 90.4% . Validation accuracy: 83.2%\n",
      "Nope prior. Loss at step 70: 1.768471 . Training accuracy: 90.1% . Validation accuracy: 10.4%\n",
      "With prior. Loss at step 80: 0.914333 . Training accuracy: 88.0% . Validation accuracy: 83.0%\n",
      "Nope prior. Loss at step 80: 0.799377 . Training accuracy: 91.5% . Validation accuracy: 83.1%\n",
      "Nope prior. Loss at step 80: 1.169790 . Training accuracy: 91.5% . Validation accuracy: 10.4%\n",
      "With prior. Loss at step 90: 0.897036 . Training accuracy: 88.5% . Validation accuracy: 83.1%\n",
      "Nope prior. Loss at step 90: 0.784228 . Training accuracy: 91.8% . Validation accuracy: 83.1%\n",
      "Nope prior. Loss at step 90: 0.819622 . Training accuracy: 91.8% . Validation accuracy: 10.4%\n",
      "With prior. Loss at step 100: 0.901225 . Training accuracy: 88.1% . Validation accuracy: 82.7%\n",
      "Nope prior. Loss at step 100: 0.759015 . Training accuracy: 93.0% . Validation accuracy: 83.4%\n",
      "Nope prior. Loss at step 100: 0.590374 . Training accuracy: 92.7% . Validation accuracy: 10.4%\n",
      "With prior. Loss at step 110: 0.863264 . Training accuracy: 89.0% . Validation accuracy: 83.3%\n",
      "Nope prior. Loss at step 110: 0.758999 . Training accuracy: 92.7% . Validation accuracy: 81.5%\n",
      "Nope prior. Loss at step 110: 0.478369 . Training accuracy: 92.2% . Validation accuracy: 10.4%\n",
      "With prior. Loss at step 120: 0.958486 . Training accuracy: 86.0% . Validation accuracy: 82.0%\n",
      "Nope prior. Loss at step 120: 0.754853 . Training accuracy: 92.8% . Validation accuracy: 82.6%\n",
      "Nope prior. Loss at step 120: 0.395617 . Training accuracy: 92.2% . Validation accuracy: 10.4%\n",
      "With prior. Loss at step 130: 0.845587 . Training accuracy: 89.6% . Validation accuracy: 82.8%\n",
      "Nope prior. Loss at step 130: 0.691004 . Training accuracy: 95.4% . Validation accuracy: 83.8%\n",
      "Nope prior. Loss at step 130: 0.274012 . Training accuracy: 95.3% . Validation accuracy: 10.4%\n",
      "No longer training w/ priors\n",
      "With prior. Loss at step 140: 0.845587 . Training accuracy: 89.6% . Validation accuracy: 82.8%\n",
      "Nope prior. Loss at step 140: 0.678642 . Training accuracy: 95.7% . Validation accuracy: 83.6%\n",
      "Nope prior. Loss at step 140: 0.233638 . Training accuracy: 95.9% . Validation accuracy: 10.4%\n",
      "With prior. Loss at step 150: 0.845587 . Training accuracy: 89.6% . Validation accuracy: 82.8%\n",
      "Nope prior. Loss at step 150: 0.660951 . Training accuracy: 96.3% . Validation accuracy: 83.8%\n",
      "Nope prior. Loss at step 150: 0.201633 . Training accuracy: 96.4% . Validation accuracy: 10.4%\n",
      "With prior. Loss at step 160: 0.845587 . Training accuracy: 89.6% . Validation accuracy: 82.8%\n",
      "Nope prior. Loss at step 160: 0.649230 . Training accuracy: 96.7% . Validation accuracy: 83.4%\n",
      "Nope prior. Loss at step 160: 0.182087 . Training accuracy: 96.6% . Validation accuracy: 10.4%\n",
      "With prior. Loss at step 170: 0.845587 . Training accuracy: 89.6% . Validation accuracy: 82.8%\n",
      "Nope prior. Loss at step 170: 0.669511 . Training accuracy: 96.2% . Validation accuracy: 82.5%\n",
      "Nope prior. Loss at step 170: 0.202019 . Training accuracy: 94.9% . Validation accuracy: 10.4%\n",
      "No longer training w/ normal + reduced data\n",
      "With prior. Loss at step 180: 0.845587 . Training accuracy: 89.6% . Validation accuracy: 82.8%\n",
      "Nope prior. Loss at step 180: 0.627738 . Training accuracy: 97.4% . Validation accuracy: 83.7%\n",
      "Nope prior. Loss at step 180: 0.202019 . Training accuracy: 94.9% . Validation accuracy: 10.4%\n",
      "With prior. Loss at step 190: 0.845587 . Training accuracy: 89.6% . Validation accuracy: 82.8%\n",
      "Nope prior. Loss at step 190: 0.716545 . Training accuracy: 93.8% . Validation accuracy: 83.1%\n",
      "Nope prior. Loss at step 190: 0.202019 . Training accuracy: 94.9% . Validation accuracy: 10.4%\n",
      "With prior. Loss at step 200: 0.845587 . Training accuracy: 89.6% . Validation accuracy: 82.8%\n",
      "Nope prior. Loss at step 200: 0.614725 . Training accuracy: 97.8% . Validation accuracy: 84.0%\n",
      "Nope prior. Loss at step 200: 0.202019 . Training accuracy: 94.9% . Validation accuracy: 10.4%\n",
      "No longer training w/ normal method\n",
      "Stopping Training at step  200\n",
      "Test accuracy with prior: 89.5%\n",
      "Test accuracy no prior: 90.3%\n",
      "Test accuracy no prior on small data: 10.4%\n"
     ]
    }
   ],
   "source": [
    "\n",
    "dDict = dict()\n",
    "dDict['validDataset'] = valid_dataset\n",
    "dDict['validLabels'] = valid_labels\n",
    "dDict['testDataset'] = test_dataset\n",
    "dDict['testLabels'] = test_labels\n",
    "\n",
    "\n",
    "train_subset = 10000\n",
    "train_dataset2 = train_dataset[:train_subset, :]\n",
    "train_labels2 = train_labels[:train_subset]\n",
    "dDict['trainDataset'] = train_dataset2\n",
    "\n",
    "numTest = 5;\n",
    "fracBadList = np.linspace(0,.8, num=numTest) \n",
    "fracBadList = [0.0]\n",
    "outList = []\n",
    "pDict = dict()\n",
    "for i, fracBad in enumerate(fracBadList):\n",
    "  pDict['priorInit'] = (1-fracBad)*.9\n",
    "  pDict['learnRate'] = 0.5\n",
    "  nBad = np.int(fracBad*train_labels2.shape[0])\n",
    "  print('Mislabeling %0.1f of data or %i / %i examples' % (fracBad, nBad, train_subset))\n",
    "  rangeNess = np.arange(train_labels2.shape[0])\n",
    "  np.random.shuffle(rangeNess)\n",
    "  randomBreak = rangeNess[:nBad]\n",
    "  trainL = train_labels2\n",
    "  for i, rb in enumerate(randomBreak):\n",
    "    trainL[rb][:] = trainL[rb][np.random.permutation(10)];\n",
    "  trainDatasetRed = np.delete(train_dataset2,randomBreak,0)\n",
    "  trainLabelsRed = np.delete(train_labels2,randomBreak,0)\n",
    "\n",
    "  dDict['trainLabels'] = trainL\n",
    "  dDict['trainDatasetRed'] = trainDatasetRed\n",
    "  dDict['trainLabelsRed'] = trainLabelsRed  \n",
    "  ar = exploreData(dDict, pDict)\n",
    "  outList.append(ar)\n",
    "  with open('results_nnn_0.0dropout_0.0.dat', 'wb') as outfile:\n",
    "    pickle.dump(outList, outfile, protocol=pickle.HIGHEST_PROTOCOL)"
   ]
  },
  {
   "cell_type": "code",
   "execution_count": 7,
   "metadata": {
    "collapsed": false
   },
   "outputs": [],
   "source": [
    "outList[0].items()\n",
    "import pandas as pd"
   ]
  },
  {
   "cell_type": "markdown",
   "metadata": {},
   "source": [
    "ar"
   ]
  },
  {
   "cell_type": "code",
   "execution_count": 8,
   "metadata": {
    "collapsed": false
   },
   "outputs": [],
   "source": [
    "with open('test.dat', 'wb') as outfile:\n",
    "    pickle.dump(outList, outfile, protocol=pickle.HIGHEST_PROTOCOL)"
   ]
  },
  {
   "cell_type": "code",
   "execution_count": 9,
   "metadata": {
    "collapsed": false
   },
   "outputs": [
    {
     "data": {
      "text/plain": [
       "[<matplotlib.lines.Line2D at 0x10c9af828>]"
      ]
     },
     "execution_count": 9,
     "metadata": {},
     "output_type": "execute_result"
    },
    {
     "data": {
      "image/png": "[encoded data removed]",
      "text/plain": [
       "<matplotlib.figure.Figure at 0x10c9af7b8>"
      ]
     },
     "metadata": {},
     "output_type": "display_data"
    }
   ],
   "source": [
    "import matplotlib.pyplot as plt\n",
    "plt.plot(ar['trainAcc_priors'])\n",
    "plt.plot(ar['trainAcc_normal'])"
   ]
  },
  {
   "cell_type": "code",
   "execution_count": null,
   "metadata": {
    "collapsed": true
   },
   "outputs": [],
   "source": [
    "import matplotlib.pyplot as plt\n",
    "plt.plot(ar['trainAcc_priors'])\n",
    "plt.plot(ar['trainAcc_normal'])"
   ]
  },
  {
   "cell_type": "code",
   "execution_count": 10,
   "metadata": {
    "collapsed": false
   },
   "outputs": [
    {
     "data": {
      "text/plain": [
       "dict_keys(['testAcc_normalRed', 'validAcc_normalRed', 'trainAcc_normal', 'modelPriorLastStep', 'testAcc_prior', 'trainAcc_normalRed', 'trainAcc_priors', 'modelNormalLastStep', 'modelNormalRedLastStep', 'testAcc_normal', 'validAcc_prior', 'validAcc_normal'])"
      ]
     },
     "execution_count": 10,
     "metadata": {},
     "output_type": "execute_result"
    }
   ],
   "source": [
    "ar.keys()"
   ]
  },
  {
   "cell_type": "markdown",
   "metadata": {},
   "source": [
    "When using 50% dropout, here were the results:\n",
    "'''\n",
    "Stopping Training at step  320\n",
    "Test accuracy with prior: 89.7%\n",
    "Test accuracy no prior: 89.9%\n",
    "Test accuracy no prior on small data: 8.6%\n",
    "'''\n",
    "\n",
    "When using 0% dropout, here were the results:\n",
    "'''\n",
    "Stopping Training at step  200\n",
    "Test accuracy with prior: 89.5%\n",
    "Test accuracy no prior: 90.3%\n",
    "Test accuracy no prior on small data: 10.4%\n",
    "'''"
   ]
  }
 ],
 "metadata": {
  "kernelspec": {
   "display_name": "Python 3",
   "language": "python",
   "name": "python3"
  },
  "language_info": {
   "codemirror_mode": {
    "name": "ipython",
    "version": 3
   },
   "file_extension": ".py",
   "mimetype": "text/x-python",
   "name": "python",
   "nbconvert_exporter": "python",
   "pygments_lexer": "ipython3",
   "version": "3.4.4"
  }
 },
 "nbformat": 4,
 "nbformat_minor": 0
}
